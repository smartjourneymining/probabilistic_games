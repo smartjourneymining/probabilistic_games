{
 "cells": [
  {
   "cell_type": "code",
   "execution_count": 1,
   "metadata": {},
   "outputs": [],
   "source": [
    "%load_ext autoreload\n",
    "%autoreload 2"
   ]
  },
  {
   "cell_type": "code",
   "execution_count": 2,
   "metadata": {},
   "outputs": [],
   "source": [
    "PRISM_PATH = \"/home/paul/Downloads/prism-games-3.2.1-linux64-x86/bin/prism\"  # path to PRISM-games install\n",
    "STRATEGY_PATH = \"/home/paul/Documents/probabilistic_games/adv.tra\" # path to where strategies shall be stored\n",
    "STORE_PATH = \"/home/paul/Downloads/prism-games-3.2.1-linux64-x86/generated/\" # path to where generated models can be stored\n",
    "QUERY_PATH = \"/home/paul/Downloads/prism-games-3.2.1-linux64-x86/generated/queries/\" # path to queries\n",
    "OUTPUT_PATH = \"/home/paul/Downloads/prism-games-3.2.1-linux64-x86/generated/outputs/\" # path to PRISM-games generated output files"
   ]
  },
  {
   "cell_type": "code",
   "execution_count": 3,
   "metadata": {},
   "outputs": [],
   "source": [
    "from journepy.src.preprocessing.bpic17 import preprocessed_log\n",
    "from journepy.src.alergia_utils import convert_utils\n",
    "from journepy.src.mc_utils.prism_utils import PrismPrinter\n",
    "from journepy.src.mc_utils.prism_utils import PrismQuery\n",
    "\n",
    "import probabilistic_game_utils as pgu \n",
    "\n",
    "from aalpy.learning_algs import run_Alergia\n",
    "from aalpy.utils import save_automaton_to_file\n",
    "from IPython.display import Image\n",
    "\n",
    "\n",
    "import pandas as pd\n",
    "\n",
    "from networkx.drawing.nx_agraph import to_agraph\n",
    "\n",
    "import json\n",
    "\n",
    "import networkx as nx\n",
    "\n",
    "import subprocess\n",
    "\n",
    "import matplotlib.pyplot as plt"
   ]
  },
  {
   "cell_type": "markdown",
   "metadata": {},
   "source": [
    "# Load Data\n",
    "We load the event log and additionally needed information."
   ]
  },
  {
   "cell_type": "code",
   "execution_count": 4,
   "metadata": {},
   "outputs": [
    {
     "name": "stderr",
     "output_type": "stream",
     "text": [
      "/home/paul/.local/lib/python3.10/site-packages/pm4py/util/dt_parsing/parser.py:77: UserWarning: ISO8601 strings are not fully supported with strpfromiso for Python versions below 3.11\n",
      "  warnings.warn(\n",
      "/home/paul/.local/lib/python3.10/site-packages/tqdm/auto.py:22: TqdmWarning: IProgress not found. Please update jupyter and ipywidgets. See https://ipywidgets.readthedocs.io/en/stable/user_install.html\n",
      "  from .autonotebook import tqdm as notebook_tqdm\n",
      "parsing log, completed traces :: 100%|██████████| 31509/31509 [00:50<00:00, 625.93it/s]\n"
     ]
    }
   ],
   "source": [
    "filtered_log_before, filtered_log_after = preprocessed_log(\"data/BPI Challenge 2017.xes\") # uses common preprocessing"
   ]
  },
  {
   "cell_type": "code",
   "execution_count": 5,
   "metadata": {},
   "outputs": [
    {
     "name": "stdout",
     "output_type": "stream",
     "text": [
      "5515\n",
      "6989\n"
     ]
    }
   ],
   "source": [
    "print(len(filtered_log_before))\n",
    "print(len(filtered_log_after))"
   ]
  },
  {
   "cell_type": "code",
   "execution_count": 6,
   "metadata": {},
   "outputs": [],
   "source": [
    "# change from xes format\n",
    "def parse(s):\n",
    "    return s.replace('(', ')').replace(')', '').replace(' ', '')\n",
    "filtered_log_before_activities = [[parse(e['concept:name']) for e in t] for t in filtered_log_before]\n",
    "filtered_log_after_activities = [[parse(e['concept:name']) for e in t] for t in filtered_log_after]"
   ]
  },
  {
   "cell_type": "code",
   "execution_count": 7,
   "metadata": {},
   "outputs": [],
   "source": [
    "# load actor mapping: maps events to an actor (service provider or user)\n",
    "with open('data/activities.xml') as f:\n",
    "    data = f.read()\n",
    "actors = json.loads(data)\n",
    "actors = {parse(k) : parse(actors[k]) for k in actors}"
   ]
  },
  {
   "cell_type": "code",
   "execution_count": 8,
   "metadata": {},
   "outputs": [
    {
     "name": "stdout",
     "output_type": "stream",
     "text": [
      "O_Returned ['O_Returned']\n",
      "O_Accepted ['O_Accepted']\n",
      "A_Submitted ['A_Submitted']\n",
      "negative ['negative']\n",
      "positive ['positive']\n",
      "A_Accepted ['A_Accepted']\n",
      "A_Concept ['A_Concept']\n",
      "A_Validating ['A_Validating']\n",
      "A_CancelledCUSTOMER ['A_CancelledCUSTOMER']\n",
      "W_CallincompletefilesSHORT ['W_Callincompletefiles']\n",
      "W_CallafteroffersSHORT ['W_Callafteroffers']\n",
      "O_CreateOffer2 ['O_CreateOffer']\n",
      "W_CallincompletefilesLONG ['W_Callincompletefiles']\n",
      "start ['start']\n",
      "W_CallafteroffersLONG ['W_Callafteroffers']\n",
      "W_CallafteroffersSUPERLONG ['W_Callafteroffers']\n",
      "O_Sentmailandonline ['O_Sentmailandonline']\n",
      "W_CallincompletefilesSUPERLONG ['W_Callincompletefiles']\n",
      "A_CreateApplication ['A_CreateApplication']\n",
      "A_Pending ['A_Pending']\n",
      "O_Cancelled ['O_Cancelled']\n",
      "TIMEOUT ['TIMEOUT']\n",
      "O_CreateOffer3 ['O_CreateOffer']\n",
      "O_CreateOffer1 ['O_CreateOffer']\n",
      "O_CreateOffer0 ['O_CreateOffer']\n",
      "O_Sentonlineonly ['O_Sentonlineonly']\n"
     ]
    }
   ],
   "source": [
    "# build action mapping: assigns each event to an actor\n",
    "actions_to_activities = {}\n",
    "actions_observed = set()\n",
    "for trace in filtered_log_before_activities:\n",
    "    actions_observed.update(trace)\n",
    "\n",
    "actors_observed_actions = {}\n",
    "for action in actions_observed:\n",
    "    contained = [a for a in actors if a in action]\n",
    "    print(action, contained)\n",
    "    assert len(contained) == 1# each once - skip enumerating\n",
    "    if actors[contained[0]] == \"company\": # events where company is NOT deterministic\n",
    "        if 'O_Sentonlineonly' in action or 'O_Sentmailandonline' in action: \n",
    "            # sent online vs sent mail seems to be critical interaction - if aggregated together and diff. from others- 90%\n",
    "            actions_to_activities[action] = \"sent\"\n",
    "        elif 'O_CreateOffer0' in action:\n",
    "            actions_to_activities[action] = action\n",
    "        elif 'O_CreateOffer1' in action:\n",
    "            actions_to_activities[action] = action\n",
    "        elif 'O_CreateOffer2' in action:\n",
    "            actions_to_activities[action] = action\n",
    "        elif 'O_CreateOffer3' in action:\n",
    "            actions_to_activities[action] = action\n",
    "        elif 'O_CreateOffer4' in action:\n",
    "            actions_to_activities[action] = action\n",
    "        elif 'O_CreateOffer5' in action:\n",
    "            actions_to_activities[action] = action\n",
    "        elif 'A_Denied' in action:\n",
    "            actions_to_activities[action] = action\n",
    "        elif 'A_Incomplete' in action:\n",
    "            actions_to_activities[action] = action\n",
    "        elif 'A_Validating' in action:\n",
    "            actions_to_activities[action] = action\n",
    "        else:\n",
    "            actions_to_activities[action] = action\n",
    "    else:\n",
    "        if \"A_Submitted\" in action: # event where user is deterministic\n",
    "            actions_to_activities[action] = action\n",
    "        elif \"Callafteroffers\" in action: # event where user is deterministic\n",
    "            actions_to_activities[action] = \"call\"\n",
    "        elif \"Callincomplete\" in action: # event where user is deterministic\n",
    "            actions_to_activities[action] = \"call\"\n",
    "        else: # includes \"negative\" action\n",
    "            actions_to_activities[action] = \"user\"\n",
    "\n",
    "    actors_observed_actions[action] = actors[contained[0]]\n",
    "\n",
    "actors_observed_actions['offer'] = 'company'\n",
    "actors_observed_actions['company'] = 'company'\n",
    "actors_observed_actions['user'] = 'customer'\n",
    "actors_observed_actions['sent'] = 'company'\n",
    "actors_observed_actions['offer_response'] = 'company'\n",
    "actors_observed_actions['callafter'] = 'customer'\n",
    "actors_observed_actions['callincomplete'] = 'customer'"
   ]
  },
  {
   "cell_type": "markdown",
   "metadata": {},
   "source": [
    "## Passive automata learning\n",
    "The event log is transformed into an Input/Output format and environment actions to select the next player are added additionally.\n",
    "Alergia learning automatically selects IO/Alergia if input is in [O, (I,O), ...] format."
   ]
  },
  {
   "cell_type": "code",
   "execution_count": 9,
   "metadata": {},
   "outputs": [],
   "source": [
    "# add activities\n",
    "data_before = [[(actions_to_activities[t[i]], t[i]) for i in range(1, len(t))] for t in filtered_log_before_activities]\n",
    "for d in data_before:\n",
    "    d.insert(0, 'start')\n",
    "\n",
    "data_after = [[(actions_to_activities[t[i]], t[i]) for i in range(1, len(t))] for t in filtered_log_after_activities]\n",
    "for d in data_after:\n",
    "    d.insert(0, 'start')"
   ]
  },
  {
   "cell_type": "code",
   "execution_count": 10,
   "metadata": {},
   "outputs": [],
   "source": [
    "# quantify environment -> becomes MDP\n",
    "data_before_environment = []\n",
    "for trace in data_before:\n",
    "    current = [trace[0]]\n",
    "    for i in range(1, len(trace)):\n",
    "        e = trace[i]\n",
    "        previous_state = \"start\" if i == 1 else trace[i-1][1]\n",
    "        \n",
    "        # encode decision in one step\n",
    "        current.append(('env', actors_observed_actions[e[1]] + previous_state))\n",
    "        current.append(e)\n",
    "    data_before_environment.append(current)\n",
    "\n",
    "data_after_environment = []\n",
    "for trace in data_after:\n",
    "    current = [trace[0]]\n",
    "    for i in range(1, len(trace)):\n",
    "        e = trace[i]\n",
    "        previous_state = \"start\" if i == 1 else trace[i-1][1]\n",
    "        \n",
    "        # encode decision in one step\n",
    "        current.append(('env', actors_observed_actions[e[1]] + previous_state))\n",
    "        current.append(e)\n",
    "    data_after_environment.append(current)"
   ]
  },
  {
   "cell_type": "code",
   "execution_count": 11,
   "metadata": {},
   "outputs": [
    {
     "name": "stdout",
     "output_type": "stream",
     "text": [
      "PTA Construction Time:  0.11\n",
      "Alergia Learning Time: 0.09\n",
      "Alergia Learned 95 state automaton.\n",
      "PTA Construction Time:  0.12\n",
      "Alergia Learning Time: 0.22\n",
      "Alergia Learned 131 state automaton.\n"
     ]
    }
   ],
   "source": [
    "model_before_environment = run_Alergia(data_before_environment, automaton_type='mdp', eps=0.8, print_info=True) # 0.1 plot interesting, 0.8 is confirms knowledge, 1.2 : plot align, 2 grows stronger, 1.8 : 2 is worse, grows stronger, gas is bit more interesting\n",
    "model_after_environment = run_Alergia(data_after_environment, automaton_type='mdp', eps=0.8, print_info=True)"
   ]
  },
  {
   "cell_type": "code",
   "execution_count": 12,
   "metadata": {},
   "outputs": [
    {
     "name": "stdout",
     "output_type": "stream",
     "text": [
      "Model saved to out/bpic_17-1_environment_actions.dot.\n",
      "Model saved to out/bpic_17-1_environment_actions.png.\n"
     ]
    }
   ],
   "source": [
    "filename = \"out/bpic_17-1_environment_actions\"\n",
    "save_automaton_to_file(model_before_environment, f\"{filename}.dot\")\n",
    "save_automaton_to_file(model_before_environment, f\"{filename}.png\", file_type=\"png\")"
   ]
  },
  {
   "cell_type": "code",
   "execution_count": 13,
   "metadata": {},
   "outputs": [
    {
     "name": "stdout",
     "output_type": "stream",
     "text": [
      "Model saved to out/bpic_17-2_environment_actions.dot.\n",
      "Model saved to out/bpic_17-2_environment_actions.png.\n"
     ]
    }
   ],
   "source": [
    "filename = \"out/bpic_17-2_environment_actions\"\n",
    "save_automaton_to_file(model_after_environment, f\"{filename}.dot\")\n",
    "save_automaton_to_file(model_after_environment, f\"{filename}.png\", file_type=\"png\")"
   ]
  },
  {
   "cell_type": "markdown",
   "metadata": {},
   "source": [
    "## Convert MDP to Game in Networkx format"
   ]
  },
  {
   "cell_type": "code",
   "execution_count": 14,
   "metadata": {},
   "outputs": [],
   "source": [
    "g_before = convert_utils.mdp_to_nx(model_before_environment, actors_observed_actions)\n",
    "g_after = convert_utils.mdp_to_nx(model_after_environment, actors_observed_actions)"
   ]
  },
  {
   "cell_type": "code",
   "execution_count": 15,
   "metadata": {},
   "outputs": [],
   "source": [
    "g_before = pgu.add_gas_and_user_count(g_before, data_before_environment)\n",
    "g_after = pgu.add_gas_and_user_count(g_after, data_after_environment)"
   ]
  },
  {
   "cell_type": "code",
   "execution_count": 16,
   "metadata": {},
   "outputs": [],
   "source": [
    "# test on deterministic cycles:\n",
    "def assert_no_det_cycle(g):\n",
    "    for c in list(nx.simple_cycles(g)):\n",
    "        found = False\n",
    "        for i in range(len(c)):\n",
    "            if g[c[i]][c[(i+1)%len(c)]]['prob_weight'] != 1:\n",
    "                found = True\n",
    "        assert found\n",
    "assert_no_det_cycle(g_before)\n",
    "assert_no_det_cycle(g_after)"
   ]
  },
  {
   "cell_type": "markdown",
   "metadata": {},
   "source": [
    "# Model Checking Stochastic User Journey Games\n",
    "The games are written to the prism format and PRISM-games is called."
   ]
  },
  {
   "cell_type": "code",
   "execution_count": 17,
   "metadata": {},
   "outputs": [],
   "source": [
    "printer_before = PrismPrinter(g_before, STORE_PATH, \"bpic_17_1_alergia.prism\")\n",
    "printer_before.write_to_prism()\n",
    "printer_after = PrismPrinter(g_after, STORE_PATH, \"bpic_17_2_alergia.prism\")\n",
    "printer_after.write_to_prism()"
   ]
  },
  {
   "cell_type": "code",
   "execution_count": 18,
   "metadata": {},
   "outputs": [],
   "source": [
    "query_before = PrismQuery(g_before, STORE_PATH, \"bpic_17_1_alergia.prism\", PRISM_PATH)\n",
    "model_name_before = STORE_PATH+\"bpic_17_1_alergia.prism\"\n",
    "\n",
    "query_after = PrismQuery(g_after, STORE_PATH, \"bpic_17_2_alergia.prism\", PRISM_PATH)\n",
    "model_name_after = STORE_PATH+\"bpic_17_2_alergia.prism\""
   ]
  },
  {
   "cell_type": "code",
   "execution_count": 19,
   "metadata": {},
   "outputs": [
    {
     "name": "stdout",
     "output_type": "stream",
     "text": [
      "0.8865074490124265\n",
      "0.9166362285809062\n"
     ]
    }
   ],
   "source": [
    "# Query Q1 from Table 1\n",
    "results_file_before = query_before.query(QUERY_PATH+\"pos_alergia.props\", write_parameterized=True)\n",
    "print(results_file_before['q0start'])\n",
    "\n",
    "results_file_after = query_after.query(QUERY_PATH+\"pos_alergia.props\", write_parameterized=True)\n",
    "print(results_file_after['q0start'])"
   ]
  },
  {
   "cell_type": "code",
   "execution_count": 20,
   "metadata": {},
   "outputs": [
    {
     "name": "stdout",
     "output_type": "stream",
     "text": [
      "PRISM-games\n",
      "===========\n",
      "\n",
      "Version: 3.2.1 (based on PRISM 4.8.dev)\n",
      "Date: Wed Sep 18 11:29:27 CEST 2024\n",
      "Hostname: hp\n",
      "Memory limits: cudd=1g, java(heap)=1g\n",
      "Command line: prism-games /home/paul/Downloads/prism-games-3.2.1-linux64-x86/generated/bpic_17_1_alergia.prism /home/paul/Downloads/prism-games-3.2.1-linux64-x86/generated/queries/mc_runs.props -const envprob=0\n",
      "\n",
      "Parsing model file \"/home/paul/Downloads/prism-games-3.2.1-linux64-x86/generated/bpic_17_1_alergia.prism\"...\n",
      "\n",
      "Type:        SMG\n",
      "Modules:     userModule providerModule controll\n",
      "Variables:   gas state negative positive final_gas steps min_gas\n",
      "\n",
      "Parsing properties file \"/home/paul/Downloads/prism-games-3.2.1-linux64-x86/generated/queries/mc_runs.props\"...\n",
      "\n",
      "3 properties:\n",
      "(1) <<providerPlayer,userPlayer>>R{\"gas_neg\"}min=? [ F (positive|negative) ]\n",
      "(2) <<providerPlayer>>R{\"gas_neg\"}min=? [ F (positive|negative) ]\n",
      "(3) <<providerPlayer>>R{\"gas_pos\"}max=? [ F (positive|negative) ]\n",
      "\n",
      "---------------------------------------------------------------------\n",
      "\n",
      "Model checking: <<providerPlayer,userPlayer>>R{\"gas_neg\"}min=? [ F (positive|negative) ]\n",
      "Model constants: envprob=0\n",
      "\n",
      "Switching to explicit engine, which supports SMGs...\n",
      "\n",
      "Building model...\n",
      "Model constants: envprob=0\n",
      "\n",
      "Computing reachable states... 265 states\n",
      "Reachable states exploration and model construction done in 0.074 secs.\n",
      "Sorting reachable states list...\n",
      "\n",
      "Time for model construction: 0.133 seconds.\n",
      "\n",
      "Type:        SMG\n",
      "States:      265 (1 initial)\n",
      "Transitions: 342\n",
      "Choices:     292\n",
      "Max/avg:     5/1.10\n",
      "Building reward structure...\n",
      "\n",
      "Starting expected reachability...\n",
      "Starting Prob1 (maxmin)...\n",
      "Prob1 (maxmin) took 25 iterations and 0.023 seconds.\n",
      "target=2, inf=0, rest=263\n",
      "Computing the upper bound where 0.24 is used instead of 0.0\n",
      "Starting value iteration (minmax)...\n",
      "Value iteration (minmax) took 69 iterations and 0.029 seconds.\n",
      "Computed an over-approximation of the solution (in 0 seconds), this will now be used to get the solution\n",
      "Starting value iteration (minmax)...\n",
      "Value iteration (minmax) took 69 iterations and 0.016 seconds.\n",
      "Expected reachability took 0.08 seconds.\n",
      "\n",
      "Value in the initial state: 33.10846818642869\n",
      "\n",
      "Time for model checking: 0.109 seconds.\n",
      "\n",
      "Result: 33.10846818642869 (+/- 1.3081069516438385E-4 estimated; rel err 3.950973945028473E-6)\n",
      "\n",
      "---------------------------------------------------------------------\n",
      "\n",
      "Model checking: <<providerPlayer>>R{\"gas_neg\"}min=? [ F (positive|negative) ]\n",
      "Model constants: envprob=0\n",
      "Building reward structure...\n",
      "\n",
      "Starting expected reachability...\n",
      "Starting Prob1 (maxmin)...\n",
      "Prob1 (maxmin) took 25 iterations and 0.007 seconds.\n",
      "target=2, inf=0, rest=263\n",
      "Computing the upper bound where 0.24 is used instead of 0.0\n",
      "Starting value iteration (minmax)...\n",
      "Value iteration (minmax) took 225 iterations and 0.029 seconds.\n",
      "Computed an over-approximation of the solution (in 0 seconds), this will now be used to get the solution\n",
      "Starting value iteration (minmax)...\n",
      "Value iteration (minmax) took 248 iterations and 0.038 seconds.\n",
      "Expected reachability took 0.074 seconds.\n",
      "\n",
      "Value in the initial state: 37.347331303929145\n",
      "\n",
      "Time for model checking: 0.077 seconds.\n",
      "\n",
      "Result: 37.347331303929145 (+/- 2.932157845703593E-4 estimated; rel err 7.851050512396622E-6)\n",
      "\n",
      "---------------------------------------------------------------------\n",
      "\n",
      "Model checking: <<providerPlayer>>R{\"gas_pos\"}max=? [ F (positive|negative) ]\n",
      "Model constants: envprob=0\n",
      "Building reward structure...\n",
      "\n",
      "Starting expected reachability...\n",
      "Starting Prob1 (minmax)...\n",
      "Prob1 (minmax) took 25 iterations and 0.009 seconds.\n",
      "target=2, inf=0, rest=263\n",
      "Computing the upper bound where 0.15 is used instead of 0.0\n",
      "Starting value iteration (maxmin)...\n",
      "Value iteration (maxmin) took 77 iterations and 0.009 seconds.\n",
      "Computed an over-approximation of the solution (in 0 seconds), this will now be used to get the solution\n",
      "Starting value iteration (maxmin)...\n",
      "Value iteration (maxmin) took 68 iterations and 0.005 seconds.\n",
      "Expected reachability took 0.023 seconds.\n",
      "\n",
      "Value in the initial state: 67.78734807562431\n",
      "\n",
      "Time for model checking: 0.03 seconds.\n",
      "\n",
      "Result: 67.78734807562431 (+/- 6.4199544297594E-4 estimated; rel err 9.470726635591687E-6)\n",
      "\n"
     ]
    },
    {
     "data": {
      "text/plain": [
       "CompletedProcess(args=['/home/paul/Downloads/prism-games-3.2.1-linux64-x86/bin/prism', '/home/paul/Downloads/prism-games-3.2.1-linux64-x86/generated/bpic_17_1_alergia.prism', '/home/paul/Downloads/prism-games-3.2.1-linux64-x86/generated/queries/mc_runs.props', '-const', 'envprob=0'], returncode=0)"
      ]
     },
     "execution_count": 20,
     "metadata": {},
     "output_type": "execute_result"
    }
   ],
   "source": [
    "# Query Q2, Q3, and Q4 from Table 1 - BPIC'17-1\n",
    "subprocess.run([PRISM_PATH, model_name_before, QUERY_PATH+\"mc_runs.props\", \"-const\", \"envprob=0\"]) "
   ]
  },
  {
   "cell_type": "code",
   "execution_count": 21,
   "metadata": {},
   "outputs": [
    {
     "name": "stdout",
     "output_type": "stream",
     "text": [
      "PRISM-games\n",
      "===========\n",
      "\n",
      "Version: 3.2.1 (based on PRISM 4.8.dev)\n",
      "Date: Wed Sep 18 11:29:28 CEST 2024\n",
      "Hostname: hp\n",
      "Memory limits: cudd=1g, java(heap)=1g\n",
      "Command line: prism-games /home/paul/Downloads/prism-games-3.2.1-linux64-x86/generated/bpic_17_2_alergia.prism /home/paul/Downloads/prism-games-3.2.1-linux64-x86/generated/queries/mc_runs.props -const envprob=0\n",
      "\n",
      "Parsing model file \"/home/paul/Downloads/prism-games-3.2.1-linux64-x86/generated/bpic_17_2_alergia.prism\"...\n",
      "\n",
      "Type:        SMG\n",
      "Modules:     userModule providerModule controll\n",
      "Variables:   gas state negative positive final_gas steps min_gas\n",
      "\n",
      "Parsing properties file \"/home/paul/Downloads/prism-games-3.2.1-linux64-x86/generated/queries/mc_runs.props\"...\n",
      "\n",
      "3 properties:\n",
      "(1) <<providerPlayer,userPlayer>>R{\"gas_neg\"}min=? [ F (positive|negative) ]\n",
      "(2) <<providerPlayer>>R{\"gas_neg\"}min=? [ F (positive|negative) ]\n",
      "(3) <<providerPlayer>>R{\"gas_pos\"}max=? [ F (positive|negative) ]\n",
      "\n",
      "---------------------------------------------------------------------\n",
      "\n",
      "Model checking: <<providerPlayer,userPlayer>>R{\"gas_neg\"}min=? [ F (positive|negative) ]\n",
      "Model constants: envprob=0\n",
      "\n",
      "Switching to explicit engine, which supports SMGs...\n",
      "\n",
      "Building model...\n",
      "Model constants: envprob=0\n",
      "\n",
      "Computing reachable states... 373 states\n",
      "Reachable states exploration and model construction done in 0.109 secs.\n",
      "Sorting reachable states list...\n",
      "\n",
      "Time for model construction: 0.175 seconds.\n",
      "\n",
      "Type:        SMG\n",
      "States:      373 (1 initial)\n",
      "Transitions: 486\n",
      "Choices:     407\n",
      "Max/avg:     4/1.09\n",
      "Building reward structure...\n",
      "\n",
      "Starting expected reachability...\n",
      "Starting Prob1 (maxmin)...\n",
      "Prob1 (maxmin) took 25 iterations and 0.035 seconds.\n",
      "target=2, inf=0, rest=371\n",
      "Computing the upper bound where 0.24 is used instead of 0.0\n",
      "Starting value iteration (minmax)...\n",
      "Value iteration (minmax) took 53 iterations and 0.037 seconds.\n",
      "Computed an over-approximation of the solution (in 0 seconds), this will now be used to get the solution\n",
      "Starting value iteration (minmax)...\n",
      "Value iteration (minmax) took 57 iterations and 0.028 seconds.\n",
      "Expected reachability took 0.117 seconds.\n",
      "\n",
      "Value in the initial state: 33.86562504311371\n",
      "\n",
      "Time for model checking: 0.144 seconds.\n",
      "\n",
      "Result: 33.86562504311371 (+/- 3.1032456604407344E-8 estimated; rel err 9.163408785427845E-10)\n",
      "\n",
      "---------------------------------------------------------------------\n",
      "\n",
      "Model checking: <<providerPlayer>>R{\"gas_neg\"}min=? [ F (positive|negative) ]\n",
      "Model constants: envprob=0\n",
      "Building reward structure...\n",
      "\n",
      "Starting expected reachability...\n",
      "Starting Prob1 (maxmin)...\n",
      "Prob1 (maxmin) took 25 iterations and 0.013 seconds.\n",
      "target=2, inf=0, rest=371\n",
      "Computing the upper bound where 0.24 is used instead of 0.0\n",
      "Starting value iteration (minmax)...\n",
      "Value iteration (minmax) took 149 iterations and 0.038 seconds.\n",
      "Computed an over-approximation of the solution (in 0 seconds), this will now be used to get the solution\n",
      "Starting value iteration (minmax)...\n",
      "Value iteration (minmax) took 168 iterations and 0.039 seconds.\n",
      "Expected reachability took 0.091 seconds.\n",
      "\n",
      "Value in the initial state: 36.06797265976299\n",
      "\n",
      "Time for model checking: 0.098 seconds.\n",
      "\n",
      "Result: 36.06797265976299 (+/- 3.5644837623641213E-4 estimated; rel err 9.882683997763529E-6)\n",
      "\n",
      "---------------------------------------------------------------------\n",
      "\n",
      "Model checking: <<providerPlayer>>R{\"gas_pos\"}max=? [ F (positive|negative) ]\n",
      "Model constants: envprob=0\n",
      "Building reward structure...\n",
      "\n",
      "Starting expected reachability...\n",
      "Starting Prob1 (minmax)...\n",
      "Prob1 (minmax) took 36 iterations and 0.032 seconds.\n",
      "target=2, inf=0, rest=371\n",
      "Computing the upper bound where 0.15 is used instead of 0.0\n",
      "Starting value iteration (maxmin)...\n",
      "Value iteration (maxmin) took 2227 iterations and 0.245 seconds.\n",
      "Computed an over-approximation of the solution (in 0 seconds), this will now be used to get the solution\n",
      "Starting value iteration (maxmin)...\n",
      "Value iteration (maxmin) took 285 iterations and 0.027 seconds.\n",
      "Expected reachability took 0.305 seconds.\n",
      "\n",
      "Value in the initial state: 68.07028486327721\n",
      "\n",
      "Time for model checking: 0.312 seconds.\n",
      "\n",
      "Result: 68.07028486327721 (exact floating point)\n",
      "\n"
     ]
    },
    {
     "data": {
      "text/plain": [
       "CompletedProcess(args=['/home/paul/Downloads/prism-games-3.2.1-linux64-x86/bin/prism', '/home/paul/Downloads/prism-games-3.2.1-linux64-x86/generated/bpic_17_2_alergia.prism', '/home/paul/Downloads/prism-games-3.2.1-linux64-x86/generated/queries/mc_runs.props', '-const', 'envprob=0'], returncode=0)"
      ]
     },
     "execution_count": 21,
     "metadata": {},
     "output_type": "execute_result"
    }
   ],
   "source": [
    "# Query Q2, Q3, and Q4 from Table 1 - BPIC'17-2\n",
    "subprocess.run([PRISM_PATH, model_name_after, QUERY_PATH+\"mc_runs.props\", \"-const\", \"envprob=0\"]) "
   ]
  },
  {
   "cell_type": "code",
   "execution_count": 22,
   "metadata": {},
   "outputs": [
    {
     "data": {
      "image/png": "[encoded data removed]",
      "text/plain": [
       "<Figure size 640x480 with 1 Axes>"
      ]
     },
     "metadata": {},
     "output_type": "display_data"
    }
   ],
   "source": [
    "# run Activity experiment and produce Fig. 7\n",
    "# remove \"stdout=subprocess.DEVNULL\" to print output again\n",
    "file_name = OUTPUT_PATH+\"succ_prop_cond-bpic-17-1.txt\"\n",
    "subprocess.run([PRISM_PATH, STORE_PATH+\"bpic_17_1_alergia.prism\",\n",
    "                 QUERY_PATH+\"pos_alergia.props\",\n",
    "                   \"-const\", \"envprob=-0.95:0.05:0.95\", \"-exportresults\", file_name+\":dataframe\"], stdout=subprocess.DEVNULL) \n",
    "\n",
    "df_visual = pd.read_csv(file_name)\n",
    "plt.plot(df_visual['envprob'], df_visual['Result'], label = \"BPIC'17-1\", linewidth=3)\n",
    "\n",
    "file_name = OUTPUT_PATH+\"succ_prop_cond-bpic-17-2.txt\"\n",
    "subprocess.run([PRISM_PATH, STORE_PATH+\"bpic_17_2_alergia.prism\",\n",
    "                 QUERY_PATH+\"pos_alergia.props\",\n",
    "                   \"-const\", \"envprob=-0.95:0.05:0.95\", \"-exportresults\", file_name+\":dataframe\"], stdout=subprocess.DEVNULL) \n",
    "\n",
    "df_visual = pd.read_csv(file_name)\n",
    "plt.plot(df_visual['envprob'], df_visual['Result'], label = \"BPIC'17-2\", linewidth=3)\n",
    "\n",
    "plt.vlines(x=0, ymin=0, ymax = 1, linewidth=2, color = 'grey', linestyles='--')\n",
    "plt.text(-1, 0.05, 'Service Provider', fontsize = 18)\n",
    "plt.text(0.8, 0.05, 'User', fontsize = 18)\n",
    "plt.legend(fontsize=16)\n",
    "plt.xlabel(\"Scaled activity\", fontsize=22)\n",
    "plt.ylabel(\"Success probability\", fontsize=22)\n",
    "plt.xticks(fontsize=15)\n",
    "plt.yticks(fontsize=20)\n",
    "plt.tight_layout()\n",
    "plt.savefig(\"out/bpic_activity_comparison.png\", dpi=300)\n",
    "plt.show()"
   ]
  },
  {
   "cell_type": "code",
   "execution_count": 23,
   "metadata": {},
   "outputs": [
    {
     "data": {
      "image/png": "[encoded data removed]",
      "text/plain": [
       "<Figure size 640x480 with 1 Axes>"
      ]
     },
     "metadata": {},
     "output_type": "display_data"
    }
   ],
   "source": [
    "# run gas upper and lower bound under limited steps\n",
    "PrismPrinter(g_before, STORE_PATH, \"bpic_17_1_alergia.prism\").write_to_prism(write_extended_parameterized=True)\n",
    "file_name_pos = OUTPUT_PATH+\"steps_gas_pos_bound-bpic-17-1.txt\"\n",
    "subprocess.run([PRISM_PATH, model_name_before, \n",
    "                QUERY_PATH+\"reward_props.props\", \"-prop\", \"3\",\n",
    "                \"-const\", \"m0=0,m1=0:1:80,m2=0,\", \"-exportresults\", file_name_pos+\":dataframe\"], stdout=subprocess.DEVNULL) \n",
    "file_name_neg = OUTPUT_PATH+\"steps_gas_neg_bound-bpic-17-1.txt\"\n",
    "subprocess.run([PRISM_PATH, model_name_before, \n",
    "                QUERY_PATH+\"reward_props.props\", \"-prop\", \"4\",\n",
    "                \"-const\", \"m0=0,m1=0:1:80,m2=0,\", \"-exportresults\", file_name_neg+\":dataframe\"], stdout=subprocess.DEVNULL) \n",
    "\n",
    "df_visual = pd.read_csv(file_name_pos)\n",
    "plt.plot(df_visual['m1']/4, df_visual['Result'], label=\"BPIC'17-1 max pos\", c = \"blue\")\n",
    "df_visual = pd.read_csv(file_name_neg)\n",
    "plt.plot(df_visual['m1']/4, df_visual['Result'], label=\"BPIC'17-1 min neg\", c = \"orange\")\n",
    "\n",
    "PrismPrinter(g_after, STORE_PATH, \"bpic_17_2_alergia.prism\").write_to_prism(write_extended_parameterized=True)\n",
    "file_name_pos = OUTPUT_PATH+\"steps_gas_pos_bound-bpic-17-2.txt\"\n",
    "subprocess.run([PRISM_PATH, model_name_after, \n",
    "                QUERY_PATH+\"reward_props.props\", \"-prop\", \"3\",\n",
    "                \"-const\", \"m0=0,m1=0:1:80,m2=0,\", \"-exportresults\", file_name_pos+\":dataframe\"], stdout=subprocess.DEVNULL) \n",
    "file_name_neg = OUTPUT_PATH+\"steps_gas_neg_bound-bpic-17-2.txt\"\n",
    "subprocess.run([PRISM_PATH, model_name_after, \n",
    "                QUERY_PATH+\"reward_props.props\", \"-prop\", \"4\",\n",
    "                \"-const\", \"m0=0,m1=0:1:80,m2=0,\", \"-exportresults\", file_name_neg+\":dataframe\"], stdout=subprocess.DEVNULL) \n",
    "\n",
    "df_visual = pd.read_csv(file_name_pos)\n",
    "plt.plot(df_visual['m1']/4, df_visual['Result'], label=\"BPIC'17-2 max pos\", c = \"blue\", linestyle=\"dashed\")\n",
    "df_visual = pd.read_csv(file_name_neg)\n",
    "plt.plot(df_visual['m1']/4, df_visual['Result'], label=\"BPIC'17-2 min neg\", c = \"orange\", linestyle=\"dashed\")\n",
    "\n",
    "plt.legend(fontsize=14)\n",
    "plt.xlabel(\"Steps S\", fontsize=18)\n",
    "plt.ylabel(\"Accumulated weight\", fontsize=18)\n",
    "plt.xticks(fontsize=15)\n",
    "plt.yticks(fontsize=18)\n",
    "plt.tight_layout()\n",
    "plt.savefig(\"out/bpic_17_steps.png\", dpi=300)\n",
    "plt.show()"
   ]
  },
  {
   "cell_type": "markdown",
   "metadata": {},
   "source": [
    "## Induced and Reduced Model\n",
    "We generate a strategy for Q1 and build the induced Markov chain. "
   ]
  },
  {
   "cell_type": "code",
   "execution_count": 24,
   "metadata": {},
   "outputs": [],
   "source": [
    "query_before = PrismQuery(g_before, STORE_PATH, \"bpic_17_1_alergia.prism\", PRISM_PATH)\n",
    "query_after = PrismQuery(g_after, STORE_PATH, \"bpic_17_2_alergia.prism\", PRISM_PATH)"
   ]
  },
  {
   "cell_type": "code",
   "execution_count": 25,
   "metadata": {},
   "outputs": [
    {
     "name": "stdout",
     "output_type": "stream",
     "text": [
      "skipped ['q19O_Sentmailandonline']\n",
      "skipped ['q20O_Sentonlineonly']\n",
      "skipped ['q28customerO_Sentonlineonly']\n",
      "skipped ['q27companyO_Sentonlineonly']\n",
      "skipped ['q35O_CreateOffer1']\n",
      "skipped ['q42O_Sentmailandonline']\n",
      "skipped ['q37W_CallafteroffersSHORT']\n",
      "skipped ['q36W_CallafteroffersLONG']\n",
      "skipped ['q38W_CallafteroffersSUPERLONG']\n",
      "skipped ['q40W_CallafteroffersSHORT']\n",
      "skipped ['q59O_Sentmailandonline']\n",
      "skipped ['q45companyO_CreateOffer1']\n",
      "skipped ['q46companyW_CallafteroffersLONG']\n",
      "skipped ['q47customerW_CallafteroffersLONG']\n",
      "skipped ['q48companyW_CallafteroffersSHORT']\n",
      "skipped ['q49customerW_CallafteroffersSHORT']\n",
      "skipped ['q51customerW_CallafteroffersSUPERLONG']\n",
      "skipped ['q50companyW_CallafteroffersSUPERLONG']\n",
      "skipped ['q53customerW_CallafteroffersSHORT']\n",
      "skipped ['q56customerO_Sentmailandonline']\n",
      "skipped ['q55companyO_Sentmailandonline']\n",
      "skipped ['q57O_Sentmailandonline']\n",
      "skipped ['q83O_CreateOffer2']\n",
      "skipped ['q60A_Validating']\n",
      "skipped ['q61O_Cancelled']\n",
      "skipped ['q63W_CallafteroffersSHORT']\n",
      "skipped ['q62W_CallafteroffersLONG']\n",
      "skipped ['q66companyA_Validating']\n",
      "skipped ['q67customerO_Cancelled']\n",
      "skipped ['q69companyW_CallafteroffersSHORT']\n",
      "skipped ['q74O_Returned']\n",
      "skipped ['q81customerO_Returned']\n",
      "skipped ['q85W_CallincompletefilesSHORT']\n",
      "skipped ['q93W_CallincompletefilesSUPERLONG']\n",
      "skipped ['q88companyO_CreateOffer2']\n",
      "skipped ['q90companyW_CallincompletefilesSHORT']\n",
      "skipped ['q94companyW_CallincompletefilesSUPERLONG']\n"
     ]
    }
   ],
   "source": [
    "strategy_before = query_before.get_strategy(QUERY_PATH+\"pos_alergia.props\")"
   ]
  },
  {
   "cell_type": "code",
   "execution_count": 26,
   "metadata": {},
   "outputs": [
    {
     "name": "stdout",
     "output_type": "stream",
     "text": [
      "skipped ['q19O_Sentmailandonline']\n",
      "skipped ['q20O_Sentonlineonly']\n",
      "skipped ['q27customerO_Sentmailandonline']\n",
      "skipped ['q28customerO_Sentonlineonly']\n",
      "skipped ['q46companyO_Sentonlineonly']\n",
      "skipped ['q33O_Sentmailandonline']\n",
      "skipped ['q34O_Sentonlineonly']\n",
      "skipped ['q62O_Sentmailandonline']\n",
      "skipped ['q37W_CallafteroffersSHORT']\n",
      "skipped ['q36W_CallafteroffersLONG']\n",
      "skipped ['q38W_CallafteroffersSUPERLONG']\n",
      "skipped ['q41O_CreateOffer1']\n",
      "skipped ['q43O_Sentmailandonline']\n",
      "skipped ['q45customerO_Sentmailandonline']\n",
      "skipped ['q49companyW_CallafteroffersLONG']\n",
      "skipped ['q50customerW_CallafteroffersLONG']\n",
      "skipped ['q51companyW_CallafteroffersSHORT']\n",
      "skipped ['q52customerW_CallafteroffersSHORT']\n",
      "skipped ['q54customerW_CallafteroffersSUPERLONG']\n",
      "skipped ['q53companyW_CallafteroffersSUPERLONG']\n",
      "skipped ['q56companyO_CreateOffer1']\n",
      "skipped ['q60customerO_Sentmailandonline']\n",
      "skipped ['q59companyO_Sentmailandonline']\n",
      "skipped ['q101O_Sentmailandonline']\n",
      "skipped ['q63W_CallafteroffersSHORT']\n",
      "skipped ['q67O_CreateOffer1']\n",
      "skipped ['q68A_Validating']\n",
      "skipped ['q69O_Cancelled']\n",
      "skipped ['q70A_Validating']\n",
      "skipped ['q71O_Sentmailandonline']\n",
      "skipped ['q72O_Sentmailandonline']\n",
      "skipped ['q74W_CallafteroffersSHORT']\n",
      "skipped ['q73W_CallafteroffersLONG']\n",
      "skipped ['q76customerO_Sentmailandonline']\n",
      "skipped ['q106customerW_CallafteroffersSHORT']\n",
      "skipped ['q81companyO_CreateOffer1']\n",
      "skipped ['q83customerO_CreateOffer1']\n",
      "skipped ['q82companyA_Validating']\n",
      "skipped ['q84customerO_Cancelled']\n",
      "skipped ['q85companyA_Validating']\n",
      "skipped ['q86customerO_Sentmailandonline']\n",
      "skipped ['q88customerO_Sentmailandonline']\n",
      "skipped ['q89companyW_CallafteroffersSHORT']\n",
      "skipped ['q91W_CallafteroffersSHORT']\n",
      "skipped ['q92W_CallafteroffersSHORT']\n",
      "skipped ['q97O_Returned']\n",
      "skipped ['q98O_Returned']\n",
      "skipped ['q100W_CallafteroffersSHORT']\n",
      "skipped ['q103W_CallafteroffersSHORT']\n",
      "skipped ['q104A_Validating']\n",
      "skipped ['q105companyW_CallafteroffersSHORT']\n",
      "skipped ['q124companyW_CallafteroffersSHORT']\n",
      "skipped ['q111customerO_Returned']\n",
      "skipped ['q112customerO_Returned']\n",
      "skipped ['q114customerW_CallafteroffersSHORT']\n",
      "skipped ['q115companyA_Validating']\n",
      "skipped ['q116A_Validating']\n",
      "skipped ['q118W_CallincompletefilesSUPERLONG']\n",
      "skipped ['q119O_Cancelled']\n",
      "skipped ['q120O_Returned']\n",
      "skipped ['q121companyA_Validating']\n",
      "skipped ['q123customerW_CallincompletefilesSUPERLONG']\n",
      "skipped ['q125customerO_Cancelled']\n",
      "skipped ['q126customerO_Returned']\n",
      "skipped ['q127O_Returned']\n",
      "skipped ['q129customerO_Returned']\n",
      "skipped ['q130W_CallincompletefilesSHORT']\n"
     ]
    }
   ],
   "source": [
    "strategy_after = query_after.get_strategy(QUERY_PATH+\"pos_alergia.props\")"
   ]
  },
  {
   "cell_type": "code",
   "execution_count": 27,
   "metadata": {},
   "outputs": [],
   "source": [
    "def can_be_merged(g, results_file):\n",
    "    for s in g.nodes():\n",
    "        reachable_values = [round(results_file[t],4) for t in g[s]]\n",
    "        if round(results_file[s],4) in reachable_values:\n",
    "        #if len(set(reachable_values)) == 1 and reachable_values[0] == round(results_file[s],2):\n",
    "            return s \n",
    "    return None\n",
    "\n",
    "\"\"\"\n",
    "NOTE: One positive and one negative node is kept and all remaining from positive/negative cluster are merged into them.\n",
    "\"\"\"\n",
    "def reduce_graph(g, results_file):\n",
    "    neg_cluster = []\n",
    "    pos_cluster = []\n",
    "    print(\"size start\", len(g.nodes()))\n",
    "    s = can_be_merged(g, results_file)\n",
    "    while(s != None):\n",
    "        for t in g[s]:\n",
    "            if round(results_file[t],4) != round(results_file[s],4):\n",
    "                continue\n",
    "            g = nx.contracted_nodes(g, s, t, self_loops = False)\n",
    "        s = can_be_merged(g, results_file)\n",
    "\n",
    "    for s in g:\n",
    "        if results_file[s] == 0:\n",
    "            neg_cluster.append(s)\n",
    "        if results_file[s] == 1:\n",
    "            pos_cluster.append(s)\n",
    "    for s in pos_cluster[1:]:\n",
    "        g = nx.contracted_nodes(g, pos_cluster[0], s, self_loops=False)\n",
    "    for s in neg_cluster[1:]:\n",
    "        g = nx.contracted_nodes(g, neg_cluster[0], s, self_loops=False)\n",
    "\n",
    "    g.remove_edges_from(nx.selfloop_edges(g))\n",
    "\n",
    "    print(\"size reduced\", len(g.nodes()))\n",
    "    return g"
   ]
  },
  {
   "cell_type": "code",
   "execution_count": 28,
   "metadata": {},
   "outputs": [],
   "source": [
    "from  matplotlib.colors import LinearSegmentedColormap # for color map\n",
    "from matplotlib.colors import rgb2hex\n",
    "\n",
    "def compute_color_map(g, results_file):\n",
    "    c = [\"#D55E00\", \"#F0E442\", \"#009E73\"]\n",
    "    v = [0,0.5,1]\n",
    "    l = list(zip(v,c))\n",
    "    cmap=LinearSegmentedColormap.from_list('rg',l, N=256)\n",
    "    s = cmap(0.23)\n",
    "    map = {}\n",
    "    for s in g.nodes():\n",
    "        map[s] = rgb2hex(cmap(results_file[s])) # have to convert to hex color\n",
    "    return map\n",
    "\n",
    "def draw_dfg(g, name, names={}, layout = \"sfdp\", color_map = []):\n",
    "    \"\"\"\n",
    "    Helper function to draw Networkx graphs.\n",
    "    \"\"\"\n",
    "    scaling = 10\n",
    "    # build graph with variable thickness\n",
    "    #scaling = 1/np.mean(list(nx.get_edge_attributes(g,'edge_weight').values()))\n",
    "\n",
    "    A = to_agraph(g)\n",
    "\n",
    "    edge_weights = nx.get_edge_attributes(g,'edge_weight')\n",
    "    for e in edge_weights:\n",
    "        e = A.get_edge(e[0], e[1])\n",
    "        e.attr[\"penwidth\"] = edge_weights[e]*scaling\n",
    "        e.attr[\"fontsize\"] = \"20\"\n",
    "    for e in g.edges:\n",
    "        edge = A.get_edge(e[0], e[1])\n",
    "        if 'controllable' in g[e[0]][e[1]]:\n",
    "            if not g[e[0]][e[1]]['controllable']:\n",
    "                edge.attr[\"style\"] = \"dotted\"\n",
    "                #edge.attr[\"label\"] =  str(g[e[0]][e[1]][\"prob_weight\"])\n",
    "        #A.add_edge(e[0], e[1], penwidth = edge_weights[e]*scaling)\n",
    "\n",
    "    #A.graph_attr.update(size=\"7.75,10.25\")\n",
    "\n",
    "    for n in A.nodes():\n",
    "        if n in names:\n",
    "            new = names[n]\n",
    "            if isinstance(names[n], float): \n",
    "                new = round(names[n], 2)\n",
    "            n.attr['label'] = new\n",
    "            #if new == 1:\n",
    "            #    n.attr['label'] = \"pos\"\n",
    "            #elif new == 0:\n",
    "            #    n.attr['label'] = \"neg\"\n",
    "            #else:\n",
    "            #    n.attr[\"label\"] = \"\" # uncomment to print state names\n",
    "        if n in color_map:\n",
    "            n.attr['color'] = color_map[n]\n",
    "    \n",
    "        n.attr['fontsize'] = 120\n",
    "        n.attr['penwidth'] = 30\n",
    "        n.attr['height'] = 3\n",
    "        n.attr['width'] = 3\n",
    "\n",
    "    for e in A.edges():\n",
    "        e.attr['penwidth'] = 20\n",
    "        e.attr[\"fontsize\"] = 120\n",
    "        e.attr[\"label\"] = str(round(g[e[0]][e[1]][\"prob_weight\"],2))\n",
    "        e.attr[\"color\"] = \"black\"\n",
    "\n",
    "        if g[e[0]][e[1]]['gas'] > 0:\n",
    "            e.attr[\"color\"] =\"darkgreen\"\n",
    "        if g[e[0]][e[1]]['gas'] < 0:\n",
    "            e.attr[\"color\"] =\"red\"\n",
    "             \n",
    "    A.write(name.split(\".\")[0]+\".dot\")\n",
    "    A.layout(layout)\n",
    "    A.draw(name)\n",
    "    print(\"Plotted\", name)"
   ]
  },
  {
   "cell_type": "code",
   "execution_count": 29,
   "metadata": {},
   "outputs": [
    {
     "name": "stdout",
     "output_type": "stream",
     "text": [
      "Plotted out/before_clustered.png\n"
     ]
    },
    {
     "name": "stderr",
     "output_type": "stream",
     "text": [
      "/home/paul/.local/lib/python3.10/site-packages/pygraphviz/agraph.py:1407: RuntimeWarning: neato: graph is too large for cairo-renderer bitmaps. Scaling by 0.997959 to fit\n",
      "\n",
      "  warnings.warn(b\"\".join(errors).decode(self.encoding), RuntimeWarning)\n"
     ]
    }
   ],
   "source": [
    "def get_probs_file(results_file, g, printer):\n",
    "    isomophism = nx.vf2pp_isomorphism(printer.g, g, node_label=None)\n",
    "    parsed_results_file = {isomophism[r] : results_file[r] for r in results_file}\n",
    "    return parsed_results_file\n",
    "\n",
    "color_map = compute_color_map(g_before, get_probs_file(results_file_before, g_before, printer_before))\n",
    "\n",
    "extended_naming = []\n",
    "draw_dfg(g_before, \"out/before_clustered.png\", names=extended_naming, layout = \"dot\", color_map=color_map)\n",
    "#draw_dfg(g_before, \"out/alergia_bpic_17-1_probs.png\", get_probs_file(results_file, g_before), layout = \"dot\") # plots graph with marked probabilities, but takes some time to render"
   ]
  },
  {
   "cell_type": "code",
   "execution_count": 30,
   "metadata": {},
   "outputs": [
    {
     "name": "stdout",
     "output_type": "stream",
     "text": [
      "size start 95\n",
      "size reduced 32\n"
     ]
    },
    {
     "name": "stdout",
     "output_type": "stream",
     "text": [
      "Plotted out/alergia_bpic_17-1_probs_reduced.png\n",
      "size start 131\n",
      "size reduced 47\n",
      "Plotted out/alergia_bpic_17-2_probs_reduced.png\n"
     ]
    }
   ],
   "source": [
    "# Produces Figure 6 (1) and (2)\n",
    "import copy\n",
    "def plot_reduction(g, name, results_file, layout = \"sdf\"):\n",
    "    g = copy.deepcopy(g)\n",
    "    g = reduce_graph(g, results_file)\n",
    "    color_map = compute_color_map(g, results_file)\n",
    "    draw_dfg(g, name, names = results_file, layout = layout, color_map=color_map)\n",
    "plot_reduction(g_before, \"out/alergia_bpic_17-1_probs_reduced.png\", get_probs_file(results_file_before, g_before, printer_before), layout = \"dot\")\n",
    "plot_reduction(g_after, \"out/alergia_bpic_17-2_probs_reduced.png\", get_probs_file(results_file_after, g_after, printer_after), layout = \"dot\")"
   ]
  },
  {
   "cell_type": "markdown",
   "metadata": {},
   "source": [
    "### Constrained steps and parameterized transitions"
   ]
  },
  {
   "cell_type": "code",
   "execution_count": 31,
   "metadata": {},
   "outputs": [
    {
     "name": "stdout",
     "output_type": "stream",
     "text": [
      "PRISM-games\n",
      "===========\n",
      "\n",
      "Version: 3.2.1 (based on PRISM 4.8.dev)\n",
      "Date: Wed Sep 18 11:31:06 CEST 2024\n",
      "Hostname: hp\n",
      "Memory limits: cudd=1g, java(heap)=1g\n",
      "Command line: prism-games /home/paul/Downloads/prism-games-3.2.1-linux64-x86/generated/bpic_17_1_alergia.prism /home/paul/Downloads/prism-games-3.2.1-linux64-x86/generated/queries/exp_values.props\n",
      "\n",
      "Parsing model file \"/home/paul/Downloads/prism-games-3.2.1-linux64-x86/generated/bpic_17_1_alergia.prism\"...\n",
      "\n",
      "Type:        SMG\n",
      "Modules:     userModule providerModule controll\n",
      "Variables:   gas state negative positive final_gas steps min_gas\n",
      "\n",
      "Parsing properties file \"/home/paul/Downloads/prism-games-3.2.1-linux64-x86/generated/queries/exp_values.props\"...\n",
      "\n",
      "3 properties:\n",
      "(1) <<providerPlayer>>R{\"steps\"}max=? [ Fc positive ]\n",
      "(2) <<providerPlayer>>R{\"gas_neg\"}max=? [ Fc positive ]\n",
      "(3) <<providerPlayer>>R{\"gas_pos\"}max=? [ Fc positive ]\n",
      "\n",
      "---------------------------------------------------------------------\n",
      "\n",
      "Model checking: <<providerPlayer>>R{\"steps\"}max=? [ Fc positive ]\n",
      "\n",
      "Switching to explicit engine, which supports SMGs...\n",
      "\n",
      "Building model...\n",
      "\n",
      "Computing reachable states... 265 states\n",
      "Reachable states exploration and model construction done in 0.09 secs.\n",
      "Sorting reachable states list...\n",
      "\n",
      "Time for model construction: 0.134 seconds.\n",
      "\n",
      "Type:        SMG\n",
      "States:      265 (1 initial)\n",
      "Transitions: 342\n",
      "Choices:     292\n",
      "Max/avg:     5/1.10\n",
      "Building reward structure...\n",
      "\n",
      "Starting expected reachability...\n",
      "Starting Prob1 (maxmin)...\n",
      "Prob1 (maxmin) took 8 iterations and 0.038 seconds.\n",
      "Starting Prob1 (maxmin)...\n",
      "Prob1 (maxmin) took 8 iterations and 0.005 seconds.\n",
      "Starting Prob1 (maxmin)...\n",
      "Prob1 (maxmin) took 16 iterations and 0.008 seconds.\n",
      "Starting Prob1 (maxmin)...\n",
      "Prob1 (maxmin) took 28 iterations and 0.013 seconds.\n",
      "Starting Prob1 (maxmin)...\n",
      "Prob1 (maxmin) took 47 iterations and 0.02 seconds.\n",
      "Starting Prob1 (maxmin)...\n",
      "Prob1 (maxmin) took 12 iterations and 0.002 seconds.\n",
      "Starting Prob1 (maxmin)...\n",
      "Starting Prob0 (maxmin)...\n",
      "target=1, inf=0, rest=264\n",
      "Starting value iteration (maxmin)...\n",
      "Value iteration (maxmin) took 2085 iterations and 0.282 seconds.\n",
      "Expected reachability took 0.39 seconds.\n",
      "\n",
      "Value in the initial state: 61.71192798322763\n",
      "\n",
      "Time for model checking: 0.414 seconds.\n",
      "\n",
      "Result: 61.71192798322763 (+/- 6.15018094033184E-4 estimated; rel err 9.96595170710493E-6)\n",
      "\n",
      "---------------------------------------------------------------------\n",
      "\n",
      "Model checking: <<providerPlayer>>R{\"gas_neg\"}max=? [ Fc positive ]\n",
      "Building reward structure...\n",
      "\n",
      "Starting expected reachability...\n",
      "Starting Prob1 (maxmin)...\n",
      "Prob1 (maxmin) took 23 iterations and 0.005 seconds.\n",
      "Starting Prob1 (maxmin)...\n",
      "Prob1 (maxmin) took 33 iterations and 0.006 seconds.\n",
      "Starting Prob1 (maxmin)...\n",
      "Prob1 (maxmin) took 31 iterations and 0.006 seconds.\n",
      "Starting Prob1 (maxmin)...\n",
      "Prob1 (maxmin) took 31 iterations and 0.005 seconds.\n",
      "Starting Prob1 (maxmin)...\n",
      "Prob1 (maxmin) took 8 iterations and 0.001 seconds.\n",
      "Starting Prob1 (maxmin)...\n",
      "Prob1 (maxmin) took 12 iterations and 0.002 seconds.\n",
      "Starting Prob1 (maxmin)...\n",
      "Starting Prob0 (maxmin)...\n",
      "target=1, inf=0, rest=264\n",
      "Starting value iteration (maxmin)...\n",
      "Value iteration (maxmin) took 2065 iterations and 0.139 seconds.\n",
      "Expected reachability took 0.164 seconds.\n",
      "\n",
      "Value in the initial state: 1080.6729137522418\n",
      "\n",
      "Time for model checking: 0.167 seconds.\n",
      "\n",
      "Result: 1080.6729137522418 (+/- 0.010693656602336385 estimated; rel err 9.895368400792586E-6)\n",
      "\n",
      "---------------------------------------------------------------------\n",
      "\n",
      "Model checking: <<providerPlayer>>R{\"gas_pos\"}max=? [ Fc positive ]\n",
      "Building reward structure...\n",
      "\n",
      "Starting expected reachability...\n",
      "Starting Prob1 (maxmin)...\n",
      "Prob1 (maxmin) took 37 iterations and 0.007 seconds.\n",
      "Starting Prob1 (maxmin)...\n",
      "Prob1 (maxmin) took 44 iterations and 0.006 seconds.\n",
      "Starting Prob1 (maxmin)...\n",
      "Prob1 (maxmin) took 35 iterations and 0.006 seconds.\n",
      "Starting Prob1 (maxmin)...\n",
      "Starting Prob0 (maxmin)...\n",
      "target=1, inf=0, rest=264\n",
      "Starting value iteration (maxmin)...\n",
      "Value iteration (maxmin) took 77 iterations and 0.006 seconds.\n",
      "Expected reachability took 0.028 seconds.\n",
      "\n",
      "Value in the initial state: 67.78719170892771\n",
      "\n",
      "Time for model checking: 0.031 seconds.\n",
      "\n",
      "Result: 67.78719170892771 (+/- 6.173528212524061E-4 estimated; rel err 9.107219309265168E-6)\n",
      "\n"
     ]
    },
    {
     "data": {
      "text/plain": [
       "CompletedProcess(args=['/home/paul/Downloads/prism-games-3.2.1-linux64-x86/bin/prism', '/home/paul/Downloads/prism-games-3.2.1-linux64-x86/generated/bpic_17_1_alergia.prism', '/home/paul/Downloads/prism-games-3.2.1-linux64-x86/generated/queries/exp_values.props'], returncode=0)"
      ]
     },
     "execution_count": 31,
     "metadata": {},
     "output_type": "execute_result"
    }
   ],
   "source": [
    "# estimate max counts before\n",
    "subprocess.run([PRISM_PATH, model_name_before, QUERY_PATH+\"exp_values.props\"]) "
   ]
  },
  {
   "cell_type": "code",
   "execution_count": 32,
   "metadata": {},
   "outputs": [
    {
     "name": "stdout",
     "output_type": "stream",
     "text": [
      "PRISM-games\n",
      "===========\n",
      "\n",
      "Version: 3.2.1 (based on PRISM 4.8.dev)\n",
      "Date: Wed Sep 18 11:31:08 CEST 2024\n",
      "Hostname: hp\n",
      "Memory limits: cudd=1g, java(heap)=1g\n",
      "Command line: prism-games /home/paul/Downloads/prism-games-3.2.1-linux64-x86/generated/bpic_17_2_alergia.prism /home/paul/Downloads/prism-games-3.2.1-linux64-x86/generated/queries/exp_values.props\n",
      "\n",
      "Parsing model file \"/home/paul/Downloads/prism-games-3.2.1-linux64-x86/generated/bpic_17_2_alergia.prism\"...\n",
      "\n",
      "Type:        SMG\n",
      "Modules:     userModule providerModule controll\n",
      "Variables:   gas state negative positive final_gas steps min_gas\n",
      "\n",
      "Parsing properties file \"/home/paul/Downloads/prism-games-3.2.1-linux64-x86/generated/queries/exp_values.props\"...\n",
      "\n",
      "3 properties:\n",
      "(1) <<providerPlayer>>R{\"steps\"}max=? [ Fc positive ]\n",
      "(2) <<providerPlayer>>R{\"gas_neg\"}max=? [ Fc positive ]\n",
      "(3) <<providerPlayer>>R{\"gas_pos\"}max=? [ Fc positive ]\n",
      "\n",
      "---------------------------------------------------------------------\n",
      "\n",
      "Model checking: <<providerPlayer>>R{\"steps\"}max=? [ Fc positive ]\n",
      "\n",
      "Switching to explicit engine, which supports SMGs...\n",
      "\n",
      "Building model...\n",
      "\n",
      "Computing reachable states... 373 states\n",
      "Reachable states exploration and model construction done in 0.114 secs.\n",
      "Sorting reachable states list...\n",
      "\n",
      "Time for model construction: 0.165 seconds.\n",
      "\n",
      "Type:        SMG\n",
      "States:      373 (1 initial)\n",
      "Transitions: 486\n",
      "Choices:     407\n",
      "Max/avg:     4/1.09\n",
      "Building reward structure...\n",
      "\n",
      "Starting expected reachability...\n",
      "Starting Prob1 (maxmin)...\n",
      "Prob1 (maxmin) took 8 iterations and 0.029 seconds.\n",
      "Starting Prob1 (maxmin)...\n",
      "Prob1 (maxmin) took 8 iterations and 0.006 seconds.\n",
      "Starting Prob1 (maxmin)...\n",
      "Prob1 (maxmin) took 16 iterations and 0.006 seconds.\n",
      "Starting Prob1 (maxmin)...\n",
      "Prob1 (maxmin) took 25 iterations and 0.015 seconds.\n",
      "Starting Prob1 (maxmin)...\n",
      "Prob1 (maxmin) took 33 iterations and 0.017 seconds.\n",
      "Starting Prob1 (maxmin)...\n",
      "Prob1 (maxmin) took 44 iterations and 0.013 seconds.\n",
      "Starting Prob1 (maxmin)...\n",
      "Prob1 (maxmin) took 56 iterations and 0.012 seconds.\n",
      "Starting Prob1 (maxmin)...\n",
      "Prob1 (maxmin) took 64 iterations and 0.011 seconds.\n",
      "Starting Prob1 (maxmin)...\n",
      "Prob1 (maxmin) took 62 iterations and 0.015 seconds.\n",
      "Starting Prob1 (maxmin)...\n",
      "Starting Prob0 (maxmin)...\n",
      "target=1, inf=0, rest=372\n",
      "Starting value iteration (maxmin)...\n",
      "Value iteration (maxmin) took 2585 iterations and 0.371 seconds.\n",
      "Expected reachability took 0.517 seconds.\n",
      "\n",
      "Value in the initial state: 75.8204080577497\n",
      "\n",
      "Time for model checking: 0.54 seconds.\n",
      "\n",
      "Result: 75.8204080577497 (+/- 7.53630407328735E-4 estimated; rel err 9.939677543738905E-6)\n",
      "\n",
      "---------------------------------------------------------------------\n",
      "\n",
      "Model checking: <<providerPlayer>>R{\"gas_neg\"}max=? [ Fc positive ]\n",
      "Building reward structure...\n",
      "\n",
      "Starting expected reachability...\n",
      "Starting Prob1 (maxmin)...\n",
      "Prob1 (maxmin) took 36 iterations and 0.007 seconds.\n",
      "Starting Prob1 (maxmin)...\n",
      "Prob1 (maxmin) took 50 iterations and 0.01 seconds.\n",
      "Starting Prob1 (maxmin)...\n",
      "Prob1 (maxmin) took 20 iterations and 0.003 seconds.\n",
      "Starting Prob1 (maxmin)...\n",
      "Prob1 (maxmin) took 41 iterations and 0.008 seconds.\n",
      "Starting Prob1 (maxmin)...\n",
      "Prob1 (maxmin) took 45 iterations and 0.011 seconds.\n",
      "Starting Prob1 (maxmin)...\n",
      "Prob1 (maxmin) took 57 iterations and 0.014 seconds.\n",
      "Starting Prob1 (maxmin)...\n",
      "Prob1 (maxmin) took 56 iterations and 0.018 seconds.\n",
      "Starting Prob1 (maxmin)...\n",
      "Prob1 (maxmin) took 62 iterations and 0.012 seconds.\n",
      "Starting Prob1 (maxmin)...\n",
      "Starting Prob0 (maxmin)...\n",
      "target=1, inf=0, rest=372\n",
      "Starting value iteration (maxmin)...\n",
      "Value iteration (maxmin) took 2597 iterations and 0.233 seconds.\n",
      "Expected reachability took 0.324 seconds.\n",
      "\n",
      "Value in the initial state: 1322.6761737352444\n",
      "\n",
      "Time for model checking: 0.329 seconds.\n",
      "\n",
      "Result: 1322.6761737352444 (+/- 0.013225796009583712 estimated; rel err 9.999269868326118E-6)\n",
      "\n",
      "---------------------------------------------------------------------\n",
      "\n",
      "Model checking: <<providerPlayer>>R{\"gas_pos\"}max=? [ Fc positive ]\n",
      "Building reward structure...\n",
      "\n",
      "Starting expected reachability...\n",
      "Starting Prob1 (maxmin)...\n",
      "Prob1 (maxmin) took 77 iterations and 0.007 seconds.\n",
      "Starting Prob1 (maxmin)...\n",
      "Prob1 (maxmin) took 88 iterations and 0.011 seconds.\n",
      "Starting Prob1 (maxmin)...\n",
      "Prob1 (maxmin) took 45 iterations and 0.004 seconds.\n",
      "Starting Prob1 (maxmin)...\n",
      "Prob1 (maxmin) took 2 iterations and 0.001 seconds.\n",
      "Starting Prob1 (maxmin)...\n",
      "Starting Prob0 (maxmin)...\n",
      "target=1, inf=0, rest=372\n",
      "Starting value iteration (maxmin)...\n",
      "Value iteration (maxmin) took 69 iterations and 0.007 seconds.\n",
      "Expected reachability took 0.031 seconds.\n",
      "\n",
      "Value in the initial state: 68.07028486327721\n",
      "\n",
      "Time for model checking: 0.036 seconds.\n",
      "\n",
      "Result: 68.07028486327721 (exact floating point)\n",
      "\n"
     ]
    },
    {
     "data": {
      "text/plain": [
       "CompletedProcess(args=['/home/paul/Downloads/prism-games-3.2.1-linux64-x86/bin/prism', '/home/paul/Downloads/prism-games-3.2.1-linux64-x86/generated/bpic_17_2_alergia.prism', '/home/paul/Downloads/prism-games-3.2.1-linux64-x86/generated/queries/exp_values.props'], returncode=0)"
      ]
     },
     "execution_count": 32,
     "metadata": {},
     "output_type": "execute_result"
    }
   ],
   "source": [
    "# estimate max counts after\n",
    "subprocess.run([PRISM_PATH, model_name_after, QUERY_PATH+\"exp_values.props\"]) "
   ]
  },
  {
   "cell_type": "code",
   "execution_count": 33,
   "metadata": {},
   "outputs": [],
   "source": [
    "steps_max_before = 40#int(62/2)\n",
    "max_gas_before = int(68/2)\n",
    "min_gas_before = 50 #int(1080/10)\n",
    "\n",
    "steps_max_after = 40 #int(76/2)\n",
    "max_gas_after = int(68/2)\n",
    "min_gas_after = 50 #int(1323/17)"
   ]
  },
  {
   "cell_type": "code",
   "execution_count": 34,
   "metadata": {},
   "outputs": [
    {
     "data": {
      "text/plain": [
       "0.886508297569364"
      ]
     },
     "execution_count": 34,
     "metadata": {},
     "output_type": "execute_result"
    }
   ],
   "source": [
    "# Query Q1 on bounded model BPIC'17-1\n",
    "query = PrismQuery(g_before, STORE_PATH, \"bpic_17_1_alergia_param.prism\", PRISM_PATH)\n",
    "results_file = query.query(QUERY_PATH+\"pos_alergia.props\", \n",
    "                           write_attributes=True, write_parameterized=True, envprob=0, \n",
    "                           steps_max=steps_max_before, min_gas=-min_gas_before, max_gas=max_gas_before)\n",
    "results_file['q0start']"
   ]
  },
  {
   "cell_type": "code",
   "execution_count": 35,
   "metadata": {},
   "outputs": [
    {
     "data": {
      "text/plain": [
       "0.916636228569082"
      ]
     },
     "execution_count": 35,
     "metadata": {},
     "output_type": "execute_result"
    }
   ],
   "source": [
    "# Query Q1 on bounded model BPIC'17-2\n",
    "query = PrismQuery(g_after, STORE_PATH, \"bpic_17_2_alergia_param.prism\", PRISM_PATH)\n",
    "results_file = query.query(QUERY_PATH+\"pos_alergia.props\", \n",
    "                           write_attributes=True, write_parameterized=True, envprob=0, \n",
    "                           steps_max=steps_max_after, min_gas=-max_gas_after, max_gas=max_gas_after)\n",
    "results_file['q0start']"
   ]
  },
  {
   "cell_type": "code",
   "execution_count": 36,
   "metadata": {},
   "outputs": [],
   "source": [
    "# experiment over gas (m0), steps (m1), and min_gas (m2)\n",
    "# Takes some time to execute\n",
    "PrismPrinter(g_before, STORE_PATH, \"bpic_17_1_alergia_param.prism\").write_to_prism(write_extended_parameterized=True, \n",
    "                                                                                   write_attributes=True, steps_max=steps_max_before, min_gas=-min_gas_before, max_gas=max_gas_before)\n",
    "# file_name = OUTPUT_PATH+\"bounded_steps_gas_min_gas_bpic_17-1.txt\"\n",
    "# subprocess.run([PRISM_PATH, STORE_PATH+\"bpic_17_1_alergia_param.prism\", \n",
    "#                 QUERY_PATH+\"bounded_props.props\",\n",
    "#                 \"-const\", \"m0=32:1:36,m1=12:10:32,m2=-35:5:-15,\", \"-exportresults\", file_name+\":dataframe\"])\n"
   ]
  },
  {
   "cell_type": "code",
   "execution_count": 37,
   "metadata": {},
   "outputs": [],
   "source": [
    "PrismPrinter(g_after, STORE_PATH, \"bpic_17_2_alergia_param.prism\").write_to_prism(write_extended_parameterized=True,\n",
    "                                                                                  write_attributes=True, steps_max=steps_max_after, min_gas=-min_gas_after, max_gas=max_gas_after)\n",
    "# file_name = OUTPUT_PATH+\"bounded_steps_gas_min_gas_bpic_17-2.txt\"\n",
    "# subprocess.run([PRISM_PATH, STORE_PATH+\"bpic_17_2_alergia_param.prism\", \n",
    "#                 QUERY_PATH+\"bounded_props.props\",\n",
    "#                 \"-const\", \"m0=32:1:36,m1=12:10:32,m2=-35:5:-15,\", \"-exportresults\", file_name+\":dataframe\"])"
   ]
  },
  {
   "cell_type": "code",
   "execution_count": 38,
   "metadata": {},
   "outputs": [
    {
     "name": "stdout",
     "output_type": "stream",
     "text": [
      "(0.12, 0.77, 0.85) [(32, -35), (33, -35), (34, -35)]\n",
      "34 -35\n",
      "(0.12, 0.33, 0.35) [(32, -30), (32, -25), (33, -30), (33, -25), (34, -30), (34, -25)]\n",
      "34 -25\n",
      "(0.01, 0.03, 0.03) [(32, -20), (33, -20), (34, -20)]\n",
      "34 -20\n",
      "(0.0, 0.0, 0.0) [(32, -15), (33, -15), (34, -15), (35, -35), (35, -30), (35, -25), (35, -20), (35, -15), (36, -35), (36, -30), (36, -25), (36, -20), (36, -15)]\n",
      "36 -15\n",
      "(0.19, 0.87, 0.89) [(32, -35), (33, -35), (34, -35)]\n",
      "34 -35\n",
      "(0.19, 0.35, 0.36) [(32, -30), (33, -30), (34, -30)]\n",
      "34 -30\n",
      "(0.19, 0.34, 0.35) [(32, -25), (33, -25), (34, -25)]\n",
      "34 -25\n",
      "(0.02, 0.04, 0.04) [(32, -20), (33, -20), (34, -20)]\n",
      "34 -20\n",
      "(0.0, 0.0, 0.0) [(32, -15), (33, -15), (34, -15), (35, -35), (35, -30), (35, -25), (35, -20), (35, -15), (36, -35), (36, -30), (36, -25), (36, -20), (36, -15)]\n",
      "36 -15\n"
     ]
    },
    {
     "data": {
      "image/png": "[encoded data removed]",
      "text/plain": [
       "<Figure size 640x480 with 1 Axes>"
      ]
     },
     "metadata": {},
     "output_type": "display_data"
    }
   ],
   "source": [
    "# bounded reachability plot for BPIC'17\n",
    "def plot_df(df, dashed = False):\n",
    "    df_visual_grouped = df.groupby(['m0','m2'])\n",
    "    result_dict = {}\n",
    "    for g in df_visual_grouped.groups.keys():\n",
    "        r = tuple([round(h,2) for h in df_visual_grouped.get_group(g)['Result'].values])\n",
    "        if r in result_dict:\n",
    "            result_dict[r].append(g)\n",
    "        else:\n",
    "            result_dict[r] = [g]\n",
    "\n",
    "    for k in result_dict:\n",
    "        g = result_dict[k]\n",
    "        max_m0 = max(h[0] for h in result_dict[k])\n",
    "        max_m2 = max(h[1] for h in result_dict[k])\n",
    "        print(k, result_dict[k])\n",
    "        print(max_m0, max_m2)\n",
    "        assert((max_m0, max_m2) in result_dict[k])\n",
    "        if len(set(k)) != 1:\n",
    "            if dashed:\n",
    "                plt.plot(df_visual_grouped.get_group((max_m0, max_m2))['m1'], k, label = str((max_m0, max_m2)), linestyle=\"dashed\")\n",
    "            else:\n",
    "                plt.plot(df_visual_grouped.get_group((max_m0, max_m2))['m1'], k, label = str((max_m0, max_m2)))\n",
    "\n",
    "file_name = OUTPUT_PATH+\"bounded_steps_gas_min_gas_bpic_17-1.txt\"\n",
    "df_visual = pd.read_csv(file_name)\n",
    "plot_df(df_visual)\n",
    "\n",
    "file_name = OUTPUT_PATH+\"bounded_steps_gas_min_gas_bpic_17-2.txt\"\n",
    "df_visual = pd.read_csv(file_name)\n",
    "plot_df(df_visual, dashed=True)\n",
    "\n",
    "plt.legend(fontsize=10)\n",
    "plt.xlabel(\"Steps\", fontsize=18)\n",
    "plt.ylabel(\"Success probability\", fontsize=18)\n",
    "plt.xticks(fontsize=18)\n",
    "plt.yticks(fontsize=18)\n",
    "plt.tight_layout()\n",
    "plt.savefig(\"out/bpic_bounded.png\", dpi=300)"
   ]
  },
  {
   "cell_type": "markdown",
   "metadata": {},
   "source": [
    "## Improvement recommendation ranking"
   ]
  },
  {
   "cell_type": "code",
   "execution_count": 39,
   "metadata": {},
   "outputs": [
    {
     "name": "stdout",
     "output_type": "stream",
     "text": [
      "skipped ['q19O_Sentmailandonline']\n",
      "skipped ['q20O_Sentonlineonly']\n",
      "skipped ['q28customerO_Sentonlineonly']\n",
      "skipped ['q27companyO_Sentonlineonly']\n",
      "skipped ['q35O_CreateOffer1']\n",
      "skipped ['q42O_Sentmailandonline']\n",
      "skipped ['q37W_CallafteroffersSHORT']\n",
      "skipped ['q36W_CallafteroffersLONG']\n",
      "skipped ['q38W_CallafteroffersSUPERLONG']\n",
      "skipped ['q40W_CallafteroffersSHORT']\n",
      "skipped ['q59O_Sentmailandonline']\n",
      "skipped ['q45companyO_CreateOffer1']\n",
      "skipped ['q46companyW_CallafteroffersLONG']\n",
      "skipped ['q47customerW_CallafteroffersLONG']\n",
      "skipped ['q48companyW_CallafteroffersSHORT']\n",
      "skipped ['q49customerW_CallafteroffersSHORT']\n",
      "skipped ['q51customerW_CallafteroffersSUPERLONG']\n",
      "skipped ['q50companyW_CallafteroffersSUPERLONG']\n",
      "skipped ['q53customerW_CallafteroffersSHORT']\n",
      "skipped ['q56customerO_Sentmailandonline']\n",
      "skipped ['q55companyO_Sentmailandonline']\n",
      "skipped ['q57O_Sentmailandonline']\n",
      "skipped ['q83O_CreateOffer2']\n",
      "skipped ['q60A_Validating']\n",
      "skipped ['q61O_Cancelled']\n",
      "skipped ['q63W_CallafteroffersSHORT']\n",
      "skipped ['q62W_CallafteroffersLONG']\n",
      "skipped ['q66companyA_Validating']\n",
      "skipped ['q67customerO_Cancelled']\n",
      "skipped ['q69companyW_CallafteroffersSHORT']\n",
      "skipped ['q74O_Returned']\n",
      "skipped ['q81customerO_Returned']\n",
      "skipped ['q85W_CallincompletefilesSHORT']\n",
      "skipped ['q93W_CallincompletefilesSUPERLONG']\n",
      "skipped ['q88companyO_CreateOffer2']\n",
      "skipped ['q90companyW_CallincompletefilesSHORT']\n",
      "skipped ['q94companyW_CallincompletefilesSUPERLONG']\n"
     ]
    },
    {
     "data": {
      "text/plain": [
       "{'q0start': 'env',\n",
       " 'q1companystart': 'A_CreateApplication',\n",
       " 'q2A_CreateApplication': 'env',\n",
       " 'q4customerA_CreateApplication': 'A_Submitted',\n",
       " 'q3companyA_CreateApplication': 'A_Concept',\n",
       " 'q5A_Concept': 'env',\n",
       " 'q6A_Submitted': 'env',\n",
       " 'q7companyA_Concept': 'A_Accepted',\n",
       " 'q8companyA_Submitted': 'A_Concept',\n",
       " 'q9A_Accepted': 'env',\n",
       " 'q10A_Concept': 'env',\n",
       " 'q11companyA_Accepted': 'O_CreateOffer0',\n",
       " 'q12companyA_Concept': 'A_Accepted',\n",
       " 'q13O_CreateOffer0': 'env',\n",
       " 'q14A_Accepted': 'env',\n",
       " 'q15companyO_CreateOffer0': 'O_CreateOffer1',\n",
       " 'q16customerO_CreateOffer0': 'user',\n",
       " 'q17companyA_Accepted': 'O_CreateOffer0',\n",
       " 'q18O_CreateOffer1': 'env',\n",
       " 'q21A_CancelledCUSTOMER': 'env',\n",
       " 'q22O_Cancelled': 'env',\n",
       " 'q23O_CreateOffer0': 'env',\n",
       " 'q24companyO_CreateOffer1': 'sent',\n",
       " 'q54customerO_CreateOffer1': 'user',\n",
       " 'q26customerO_Sentmailandonline': 'user',\n",
       " 'q25companyO_Sentmailandonline': 'A_Validating',\n",
       " 'q29customerA_CancelledCUSTOMER': 'user',\n",
       " 'q30companyO_Cancelled': 'O_CreateOffer2',\n",
       " 'q68customerO_Cancelled': 'user',\n",
       " 'q31companyO_CreateOffer0': 'O_CreateOffer1',\n",
       " 'q33O_Sentmailandonline': 'env',\n",
       " 'q32O_CreateOffer2': 'env',\n",
       " 'q34A_Validating': 'env',\n",
       " 'q82O_CreateOffer3': 'env',\n",
       " 'q39TIMEOUT': 'env',\n",
       " 'q86O_Cancelled': 'env',\n",
       " 'q43companyO_CreateOffer2': 'O_CreateOffer3',\n",
       " 'q44companyA_Validating': 'O_Returned',\n",
       " 'q52customerTIMEOUT': 'user',\n",
       " 'q58O_Returned': 'env',\n",
       " 'q65customerO_Returned': 'call',\n",
       " 'q64companyO_Returned': 'A_Validating',\n",
       " 'q70A_Validating': 'env',\n",
       " 'q73O_Accepted': 'env',\n",
       " 'q72W_CallincompletefilesSHORT': 'env',\n",
       " 'q71W_CallincompletefilesLONG': 'env',\n",
       " 'q75customerA_Validating': 'call',\n",
       " 'q76companyW_CallincompletefilesLONG': 'A_Validating',\n",
       " 'q77customerW_CallincompletefilesLONG': 'user',\n",
       " 'q79customerW_CallincompletefilesSHORT': 'user',\n",
       " 'q78companyW_CallincompletefilesSHORT': 'A_Validating',\n",
       " 'q80companyO_Accepted': 'A_Pending',\n",
       " 'q84A_Pending': 'env',\n",
       " 'q87companyO_CreateOffer3': 'sent',\n",
       " 'q89customerA_Pending': 'user',\n",
       " 'q91customerO_Cancelled': 'user'}"
      ]
     },
     "execution_count": 39,
     "metadata": {},
     "output_type": "execute_result"
    }
   ],
   "source": [
    "strategy_before = query_before.get_strategy(QUERY_PATH+\"pos_alergia.props\")\n",
    "strategy_before"
   ]
  },
  {
   "cell_type": "code",
   "execution_count": 40,
   "metadata": {},
   "outputs": [
    {
     "name": "stdout",
     "output_type": "stream",
     "text": [
      "skipped ['q19O_Sentmailandonline']\n",
      "skipped ['q20O_Sentonlineonly']\n",
      "skipped ['q27customerO_Sentmailandonline']\n",
      "skipped ['q28customerO_Sentonlineonly']\n",
      "skipped ['q46companyO_Sentonlineonly']\n",
      "skipped ['q33O_Sentmailandonline']\n",
      "skipped ['q34O_Sentonlineonly']\n",
      "skipped ['q62O_Sentmailandonline']\n",
      "skipped ['q37W_CallafteroffersSHORT']\n",
      "skipped ['q36W_CallafteroffersLONG']\n",
      "skipped ['q38W_CallafteroffersSUPERLONG']\n",
      "skipped ['q41O_CreateOffer1']\n",
      "skipped ['q43O_Sentmailandonline']\n",
      "skipped ['q45customerO_Sentmailandonline']\n",
      "skipped ['q49companyW_CallafteroffersLONG']\n",
      "skipped ['q50customerW_CallafteroffersLONG']\n",
      "skipped ['q51companyW_CallafteroffersSHORT']\n",
      "skipped ['q52customerW_CallafteroffersSHORT']\n",
      "skipped ['q54customerW_CallafteroffersSUPERLONG']\n",
      "skipped ['q53companyW_CallafteroffersSUPERLONG']\n",
      "skipped ['q56companyO_CreateOffer1']\n",
      "skipped ['q60customerO_Sentmailandonline']\n",
      "skipped ['q59companyO_Sentmailandonline']\n",
      "skipped ['q101O_Sentmailandonline']\n",
      "skipped ['q63W_CallafteroffersSHORT']\n",
      "skipped ['q67O_CreateOffer1']\n",
      "skipped ['q68A_Validating']\n",
      "skipped ['q69O_Cancelled']\n",
      "skipped ['q70A_Validating']\n",
      "skipped ['q71O_Sentmailandonline']\n",
      "skipped ['q72O_Sentmailandonline']\n",
      "skipped ['q74W_CallafteroffersSHORT']\n",
      "skipped ['q73W_CallafteroffersLONG']\n",
      "skipped ['q76customerO_Sentmailandonline']\n",
      "skipped ['q106customerW_CallafteroffersSHORT']\n",
      "skipped ['q81companyO_CreateOffer1']\n",
      "skipped ['q83customerO_CreateOffer1']\n",
      "skipped ['q82companyA_Validating']\n",
      "skipped ['q84customerO_Cancelled']\n",
      "skipped ['q85companyA_Validating']\n",
      "skipped ['q86customerO_Sentmailandonline']\n",
      "skipped ['q88customerO_Sentmailandonline']\n",
      "skipped ['q89companyW_CallafteroffersSHORT']\n",
      "skipped ['q91W_CallafteroffersSHORT']\n",
      "skipped ['q92W_CallafteroffersSHORT']\n",
      "skipped ['q97O_Returned']\n",
      "skipped ['q98O_Returned']\n",
      "skipped ['q100W_CallafteroffersSHORT']\n",
      "skipped ['q103W_CallafteroffersSHORT']\n",
      "skipped ['q104A_Validating']\n",
      "skipped ['q105companyW_CallafteroffersSHORT']\n",
      "skipped ['q124companyW_CallafteroffersSHORT']\n",
      "skipped ['q111customerO_Returned']\n",
      "skipped ['q112customerO_Returned']\n",
      "skipped ['q114customerW_CallafteroffersSHORT']\n",
      "skipped ['q115companyA_Validating']\n",
      "skipped ['q116A_Validating']\n",
      "skipped ['q118W_CallincompletefilesSUPERLONG']\n",
      "skipped ['q119O_Cancelled']\n",
      "skipped ['q120O_Returned']\n",
      "skipped ['q121companyA_Validating']\n",
      "skipped ['q123customerW_CallincompletefilesSUPERLONG']\n",
      "skipped ['q125customerO_Cancelled']\n",
      "skipped ['q126customerO_Returned']\n",
      "skipped ['q127O_Returned']\n",
      "skipped ['q129customerO_Returned']\n",
      "skipped ['q130W_CallincompletefilesSHORT']\n"
     ]
    },
    {
     "data": {
      "text/plain": [
       "{'q0start': 'env',\n",
       " 'q1companystart': 'A_CreateApplication',\n",
       " 'q2A_CreateApplication': 'env',\n",
       " 'q4customerA_CreateApplication': 'A_Submitted',\n",
       " 'q3companyA_CreateApplication': 'A_Concept',\n",
       " 'q5A_Concept': 'env',\n",
       " 'q6A_Submitted': 'env',\n",
       " 'q7companyA_Concept': 'A_Accepted',\n",
       " 'q8companyA_Submitted': 'A_Concept',\n",
       " 'q9A_Accepted': 'env',\n",
       " 'q10A_Concept': 'env',\n",
       " 'q11companyA_Accepted': 'O_CreateOffer0',\n",
       " 'q12companyA_Concept': 'A_Accepted',\n",
       " 'q13O_CreateOffer0': 'env',\n",
       " 'q14A_Accepted': 'env',\n",
       " 'q15companyO_CreateOffer0': 'O_CreateOffer1',\n",
       " 'q16customerO_CreateOffer0': 'user',\n",
       " 'q17companyA_Accepted': 'O_CreateOffer0',\n",
       " 'q18O_CreateOffer1': 'env',\n",
       " 'q22O_Cancelled': 'env',\n",
       " 'q21A_CancelledCUSTOMER': 'env',\n",
       " 'q39TIMEOUT': 'env',\n",
       " 'q23O_CreateOffer0': 'env',\n",
       " 'q24companyO_CreateOffer1': 'O_CreateOffer2',\n",
       " 'q25customerO_CreateOffer1': 'user',\n",
       " 'q26companyO_Sentmailandonline': 'A_Validating',\n",
       " 'q29customerA_CancelledCUSTOMER': 'user',\n",
       " 'q30companyO_Cancelled': 'sent',\n",
       " 'q31companyO_CreateOffer0': 'O_CreateOffer1',\n",
       " 'q32O_CreateOffer2': 'env',\n",
       " 'q35A_Validating': 'env',\n",
       " 'q64O_Sentmailandonline': 'env',\n",
       " 'q42O_CreateOffer1': 'env',\n",
       " 'q44companyO_CreateOffer2': 'O_CreateOffer3',\n",
       " 'q87customerO_CreateOffer2': 'user',\n",
       " 'q47companyA_Validating': 'O_Returned',\n",
       " 'q48customerA_Validating': 'call',\n",
       " 'q55customerTIMEOUT': 'user',\n",
       " 'q57companyO_CreateOffer1': 'O_CreateOffer2',\n",
       " 'q58customerO_CreateOffer1': 'user',\n",
       " 'q61O_CreateOffer3': 'env',\n",
       " 'q65O_Returned': 'env',\n",
       " 'q66W_CallincompletefilesSHORT': 'env',\n",
       " 'q99W_CallincompletefilesLONG': 'env',\n",
       " 'q96O_Accepted': 'env',\n",
       " 'q75companyO_CreateOffer3': 'sent',\n",
       " 'q77customerO_Sentmailandonline': 'user',\n",
       " 'q79customerO_Returned': 'call',\n",
       " 'q78companyO_Returned': 'A_Validating',\n",
       " 'q80companyW_CallincompletefilesSHORT': 'A_Validating',\n",
       " 'q109customerW_CallincompletefilesSHORT': 'user',\n",
       " 'q90O_Sentmailandonline': 'env',\n",
       " 'q93A_Validating': 'env',\n",
       " 'q95W_CallincompletefilesSHORT': 'env',\n",
       " 'q94W_CallincompletefilesLONG': 'env',\n",
       " 'q102O_Cancelled': 'env',\n",
       " 'q108customerW_CallincompletefilesLONG': 'user',\n",
       " 'q107companyW_CallincompletefilesLONG': 'A_Validating',\n",
       " 'q110companyO_Accepted': 'A_Pending',\n",
       " 'q113customerO_Cancelled': 'user',\n",
       " 'q117A_Pending': 'env',\n",
       " 'q122customerA_Pending': 'user'}"
      ]
     },
     "execution_count": 40,
     "metadata": {},
     "output_type": "execute_result"
    }
   ],
   "source": [
    "strategy_after = query_after.get_strategy(QUERY_PATH+\"pos_alergia.props\")\n",
    "strategy_after"
   ]
  },
  {
   "cell_type": "markdown",
   "metadata": {},
   "source": [
    "## BPIC'17 Sankey Diagram"
   ]
  },
  {
   "cell_type": "code",
   "execution_count": 41,
   "metadata": {},
   "outputs": [
    {
     "name": "stdout",
     "output_type": "stream",
     "text": [
      "total 128.30570000000003\n",
      "(35.636199999999974, 'q33: O_Sentmailandonline') 0.2777444805647759\n",
      "(34.08, 'q79: customerW_CallincompletefilesSHORT') 0.26561563515884323\n",
      "(16.15219999999989, 'q23: O_CreateOffer0') 0.12588840558135678\n",
      "(12.139899999999983, 'q13: O_CreateOffer0') 0.09461699675072877\n",
      "(11.4897, 'q16: customerO_CreateOffer0') 0.08954941206820895\n",
      "(7.3456, 'q77: customerW_CallincompletefilesLONG') 0.057250769061701845\n",
      "(3.299900000000002, 'q22: O_Cancelled') 0.02571904443839986\n",
      "(2.3569, 'q68: customerO_Cancelled') 0.018369409932684204\n",
      "(2.0507000000001665, 'q2: A_CreateApplication') 0.015982922036980166\n",
      "(1.7941999999999942, 'q71: W_CallincompletefilesLONG') 0.013983790275880134\n",
      "(1.2792000000000088, 'q18: O_CreateOffer1') 0.009969938981666508\n",
      "(0.3160000000000107, 'q65: customerO_Returned') 0.0024628679785856015\n",
      "(0.26600000000000845, 'q72: W_CallincompletefilesSHORT') 0.002073173678176483\n",
      "(0.09920000000000329, 'q75: customerA_Validating') 0.000773153492011682\n",
      "[17.818199999999973, 17.818, 17.044799999999995, 17.0352, 8.09139999999989, 8.0608, 6.1038999999999835, 6.036, 5.745, 5.7447, 3.6736, 3.672, 1.6500000000000015, 1.6499000000000001, 1.1785, 1.1784, 1.0602000000002756, 0.9904999999998909, 0.9023999999999945, 0.8917999999999997, 0.6420000000000003, 0.6372000000000084, 0.15999999999999903, 0.15600000000001168, 0.13639999999999874, 0.1296000000000097, 0.05119999999999969, 0.048000000000003595, 0.0, 0.0, 0.0, 0.0, 0.0, 0.0, 0.0, 0.0, 0.0, 0.0, 0.0, 0.0, 0.0, 0.0, 0.0, 0, 0.0, 0.0, 0, 0, 0, 0.0, 0, 0.0, 0.0, 0.0, 0.0, 0.0, 0, 0, 0.0, 0.0, 0, 0.0, 0.0, 0.0, 0.0, 0.0, 0.0, 0.0, 0.0, 0.0, 0.0, 0.0, 0]\n"
     ]
    }
   ],
   "source": [
    "def transform_strategy(strategy, g, printer):\n",
    "    \"\"\" \n",
    "    Adjusts the strategy naming from PRISM node naming to original node naming in g\n",
    "    \"\"\"\n",
    "    isomorphism = nx.vf2pp_isomorphism(printer.g, g, node_label=None)\n",
    "    strategy_isomorphism = {k[len(isomorphism[k].split(\": \")[0]):] : \": \".join(isomorphism[k].split(\": \")[1:]) for k in isomorphism}\n",
    "    parsed_strategy = {isomorphism[r] : strategy_isomorphism[strategy[r]] if strategy[r] not in [\"env\", \"user\", \"company\", \"sent\", \"call\"] else strategy[r] for r in strategy}\n",
    "    assert(len(parsed_strategy)==len(strategy))\n",
    "    return parsed_strategy\n",
    "\n",
    "def lost_users(g, results_file, strategy):\n",
    "    lost_users_dict = {}\n",
    "    total_lost_users_dict = {}\n",
    "    for s in strategy:\n",
    "        assert s in g\n",
    "        next_states = [t for t in g[s] if g[s][t]['action'] == strategy[s]]\n",
    "\n",
    "        assert(next_states)\n",
    "        total_lost_users = 0\n",
    "        for t in next_states:\n",
    "            action_outcome_cost = len(g[s][t]['trace_indices']) * abs(round(results_file[s],4)-round(results_file[t],4))\n",
    "            lost_users_dict[(s,t)] = action_outcome_cost\n",
    "\n",
    "            total_lost_users += action_outcome_cost\n",
    "                \n",
    "        if total_lost_users != 0:\n",
    "            total_lost_users_dict[s] = total_lost_users\n",
    "    total = sum(total_lost_users_dict.values())\n",
    "    print(\"total\", total)\n",
    "    for k in (sorted( ((v,k) for k,v in total_lost_users_dict.items()), reverse=True)):\n",
    "        print(k, k[0]/total)\n",
    "    print(sorted(lost_users_dict.values(), reverse=True))\n",
    "    return lost_users_dict\n",
    "lost_users_dict_before = lost_users(g_before, get_probs_file(results_file_before, g_before, printer_before), transform_strategy(strategy_before, g_before, printer_before))"
   ]
  },
  {
   "cell_type": "code",
   "execution_count": 42,
   "metadata": {},
   "outputs": [
    {
     "name": "stdout",
     "output_type": "stream",
     "text": [
      "dict_keys(['q0: start', 'q1: companystart', 'q2: A_CreateApplication', 'q4: customerA_CreateApplication', 'q3: companyA_CreateApplication', 'q5: A_Concept', 'q6: A_Submitted', 'q7: companyA_Concept', 'q8: companyA_Submitted', 'q9: A_Accepted', 'q10: A_Concept', 'q11: companyA_Accepted', 'q12: companyA_Concept', 'q13: O_CreateOffer0', 'q14: A_Accepted', 'q15: companyO_CreateOffer0', 'q16: customerO_CreateOffer0', 'q17: companyA_Accepted', 'q18: O_CreateOffer1', 'q21: A_CancelledCUSTOMER', 'q22: O_Cancelled', 'q23: O_CreateOffer0', 'q24: companyO_CreateOffer1', 'q54: customerO_CreateOffer1', 'q26: customerO_Sentmailandonline', 'q25: companyO_Sentmailandonline', 'q29: customerA_CancelledCUSTOMER', 'q30: companyO_Cancelled', 'q68: customerO_Cancelled', 'q31: companyO_CreateOffer0', 'q33: O_Sentmailandonline', 'q32: O_CreateOffer2', 'q34: A_Validating', 'q82: O_CreateOffer3', 'q39: TIMEOUT', 'q86: O_Cancelled', 'q43: companyO_CreateOffer2', 'q44: companyA_Validating', 'q52: customerTIMEOUT', 'q58: O_Returned', 'q65: customerO_Returned', 'q64: companyO_Returned', 'q70: A_Validating', 'q73: O_Accepted', 'q72: W_CallincompletefilesSHORT', 'q71: W_CallincompletefilesLONG', 'q75: customerA_Validating', 'q76: companyW_CallincompletefilesLONG', 'q77: customerW_CallincompletefilesLONG', 'q79: customerW_CallincompletefilesSHORT', 'q78: companyW_CallincompletefilesSHORT', 'q80: companyO_Accepted', 'q84: A_Pending', 'q87: companyO_CreateOffer3', 'q89: customerA_Pending', 'q91: customerO_Cancelled'])\n",
      "size start 56\n",
      "size reduced 15\n",
      "reduction mapping {'q0: start': ['q1: companystart', 'q2: A_CreateApplication'], 'q4: customerA_CreateApplication': ['q6: A_Submitted', 'q8: companyA_Submitted', 'q10: A_Concept', 'q12: companyA_Concept', 'q14: A_Accepted', 'q17: companyA_Accepted', 'q23: O_CreateOffer0'], 'q3: companyA_CreateApplication': ['q5: A_Concept', 'q7: companyA_Concept', 'q9: A_Accepted', 'q11: companyA_Accepted', 'q13: O_CreateOffer0'], 'q54: customerO_CreateOffer1': ['q22: O_Cancelled'], 'q26: customerO_Sentmailandonline': ['q21: A_CancelledCUSTOMER', 'q29: customerA_CancelledCUSTOMER', 'q39: TIMEOUT', 'q86: O_Cancelled', 'q52: customerTIMEOUT', 'q91: customerO_Cancelled'], 'q30: companyO_Cancelled': ['q24: companyO_CreateOffer1', 'q33: O_Sentmailandonline', 'q32: O_CreateOffer2', 'q43: companyO_CreateOffer2', 'q82: O_CreateOffer3', 'q87: companyO_CreateOffer3'], 'q31: companyO_CreateOffer0': ['q15: companyO_CreateOffer0', 'q18: O_CreateOffer1'], 'q73: O_Accepted': ['q80: companyO_Accepted', 'q84: A_Pending', 'q89: customerA_Pending'], 'q78: companyW_CallincompletefilesSHORT': ['q76: companyW_CallincompletefilesLONG', 'q25: companyO_Sentmailandonline', 'q34: A_Validating', 'q44: companyA_Validating', 'q58: O_Returned', 'q65: customerO_Returned', 'q64: companyO_Returned', 'q70: A_Validating', 'q75: customerA_Validating']}\n",
      "Node_list ['q0: start', 'q4: customerA_CreateApplication', 'q3: companyA_CreateApplication', 'q16: customerO_CreateOffer0', 'q54: customerO_CreateOffer1', 'q26: customerO_Sentmailandonline', 'q30: companyO_Cancelled', 'q68: customerO_Cancelled', 'q31: companyO_CreateOffer0', 'q73: O_Accepted', 'q72: W_CallincompletefilesSHORT', 'q71: W_CallincompletefilesLONG', 'q77: customerW_CallincompletefilesLONG', 'q79: customerW_CallincompletefilesSHORT', 'q78: companyW_CallincompletefilesSHORT']\n",
      "15\n",
      "lost users dict {('q0: start', 'q1: companystart'): 0.0, ('q1: companystart', 'q2: A_CreateApplication'): 0.0, ('q2: A_CreateApplication', 'q4: customerA_CreateApplication'): 1.0602000000002756, ('q2: A_CreateApplication', 'q3: companyA_CreateApplication'): 0.9904999999998909, ('q4: customerA_CreateApplication', 'q6: A_Submitted'): 0.0, ('q3: companyA_CreateApplication', 'q5: A_Concept'): 0.0, ('q5: A_Concept', 'q7: companyA_Concept'): 0.0, ('q6: A_Submitted', 'q8: companyA_Submitted'): 0.0, ('q7: companyA_Concept', 'q9: A_Accepted'): 0.0, ('q8: companyA_Submitted', 'q10: A_Concept'): 0.0, ('q9: A_Accepted', 'q11: companyA_Accepted'): 0.0, ('q10: A_Concept', 'q12: companyA_Concept'): 0.0, ('q11: companyA_Accepted', 'q13: O_CreateOffer0'): 0.0, ('q12: companyA_Concept', 'q14: A_Accepted'): 0.0, ('q13: O_CreateOffer0', 'q15: companyO_CreateOffer0'): 6.1038999999999835, ('q13: O_CreateOffer0', 'q16: customerO_CreateOffer0'): 6.036, ('q14: A_Accepted', 'q17: companyA_Accepted'): 0.0, ('q15: companyO_CreateOffer0', 'q18: O_CreateOffer1'): 0.0, ('q16: customerO_CreateOffer0', 'q21: A_CancelledCUSTOMER'): 5.745, ('q16: customerO_CreateOffer0', 'q22: O_Cancelled'): 5.7447, ('q17: companyA_Accepted', 'q23: O_CreateOffer0'): 0.0, ('q18: O_CreateOffer1', 'q24: companyO_CreateOffer1'): 0.6372000000000084, ('q18: O_CreateOffer1', 'q54: customerO_CreateOffer1'): 0.6420000000000003, ('q21: A_CancelledCUSTOMER', 'q29: customerA_CancelledCUSTOMER'): 0, ('q22: O_Cancelled', 'q30: companyO_Cancelled'): 1.6500000000000015, ('q22: O_Cancelled', 'q68: customerO_Cancelled'): 1.6499000000000001, ('q23: O_CreateOffer0', 'q31: companyO_CreateOffer0'): 8.09139999999989, ('q23: O_CreateOffer0', 'q16: customerO_CreateOffer0'): 8.0608, ('q24: companyO_CreateOffer1', 'q33: O_Sentmailandonline'): 0.0, ('q54: customerO_CreateOffer1', 'q22: O_Cancelled'): 0.0, ('q26: customerO_Sentmailandonline', 'q21: A_CancelledCUSTOMER'): 0, ('q26: customerO_Sentmailandonline', 'q39: TIMEOUT'): 0, ('q26: customerO_Sentmailandonline', 'q86: O_Cancelled'): 0, ('q25: companyO_Sentmailandonline', 'q34: A_Validating'): 0.0, ('q29: customerA_CancelledCUSTOMER', 'q41: negative'): 0, ('q30: companyO_Cancelled', 'q32: O_CreateOffer2'): 0.0, ('q68: customerO_Cancelled', 'q22: O_Cancelled'): 1.1785, ('q68: customerO_Cancelled', 'q21: A_CancelledCUSTOMER'): 1.1784, ('q31: companyO_CreateOffer0', 'q18: O_CreateOffer1'): 0.0, ('q33: O_Sentmailandonline', 'q25: companyO_Sentmailandonline'): 17.818199999999973, ('q33: O_Sentmailandonline', 'q26: customerO_Sentmailandonline'): 17.818, ('q32: O_CreateOffer2', 'q43: companyO_CreateOffer2'): 0.0, ('q34: A_Validating', 'q44: companyA_Validating'): 0.0, ('q82: O_CreateOffer3', 'q87: companyO_CreateOffer3'): 0.0, ('q39: TIMEOUT', 'q52: customerTIMEOUT'): 0, ('q86: O_Cancelled', 'q91: customerO_Cancelled'): 0, ('q43: companyO_CreateOffer2', 'q82: O_CreateOffer3'): 0.0, ('q44: companyA_Validating', 'q58: O_Returned'): 0.0, ('q52: customerTIMEOUT', 'q41: negative'): 0, ('q58: O_Returned', 'q65: customerO_Returned'): 0.0, ('q58: O_Returned', 'q64: companyO_Returned'): 0.0, ('q65: customerO_Returned', 'q72: W_CallincompletefilesSHORT'): 0.15600000000001168, ('q65: customerO_Returned', 'q71: W_CallincompletefilesLONG'): 0.15999999999999903, ('q64: companyO_Returned', 'q70: A_Validating'): 0.0, ('q70: A_Validating', 'q75: customerA_Validating'): 0.0, ('q73: O_Accepted', 'q80: companyO_Accepted'): 0.0, ('q72: W_CallincompletefilesSHORT', 'q79: customerW_CallincompletefilesSHORT'): 0.13639999999999874, ('q72: W_CallincompletefilesSHORT', 'q78: companyW_CallincompletefilesSHORT'): 0.1296000000000097, ('q71: W_CallincompletefilesLONG', 'q76: companyW_CallincompletefilesLONG'): 0.9023999999999945, ('q71: W_CallincompletefilesLONG', 'q77: customerW_CallincompletefilesLONG'): 0.8917999999999997, ('q75: customerA_Validating', 'q72: W_CallincompletefilesSHORT'): 0.048000000000003595, ('q75: customerA_Validating', 'q71: W_CallincompletefilesLONG'): 0.05119999999999969, ('q76: companyW_CallincompletefilesLONG', 'q70: A_Validating'): 0.0, ('q77: customerW_CallincompletefilesLONG', 'q73: O_Accepted'): 3.672, ('q77: customerW_CallincompletefilesLONG', 'q21: A_CancelledCUSTOMER'): 3.6736, ('q79: customerW_CallincompletefilesSHORT', 'q73: O_Accepted'): 17.044799999999995, ('q79: customerW_CallincompletefilesSHORT', 'q21: A_CancelledCUSTOMER'): 17.0352, ('q78: companyW_CallincompletefilesSHORT', 'q70: A_Validating'): 0.0, ('q80: companyO_Accepted', 'q84: A_Pending'): 0.0, ('q84: A_Pending', 'q89: customerA_Pending'): 0.0, ('q87: companyO_CreateOffer3', 'q33: O_Sentmailandonline'): 0.0, ('q89: customerA_Pending', 'q92: positive'): 0.0, ('q91: customerO_Cancelled', 'q39: TIMEOUT'): 0}\n"
     ]
    },
    {
     "data": {
      "application/vnd.plotly.v1+json": {
       "config": {
        "plotlyServerURL": "https://plot.ly"
       },
       "data": [
        {
         "link": {
          "arrowlen": 15,
          "source": [
           0,
           0,
           2,
           2,
           3,
           3,
           8,
           8,
           4,
           4,
           1,
           1,
           7,
           7,
           6,
           6,
           14,
           14,
           10,
           10,
           11,
           11,
           14,
           14,
           12,
           12,
           13,
           13
          ],
          "target": [
           1,
           2,
           8,
           3,
           5,
           4,
           6,
           4,
           6,
           7,
           8,
           3,
           4,
           5,
           14,
           5,
           10,
           11,
           13,
           14,
           14,
           12,
           10,
           11,
           9,
           5,
           9,
           5
          ],
          "value": [
           1.0602000000002756,
           0.9904999999998909,
           6.1038999999999835,
           6.036,
           5.745,
           5.7447,
           0.6372000000000084,
           0.6420000000000003,
           1.6500000000000015,
           1.6499000000000001,
           8.09139999999989,
           8.0608,
           1.1785,
           1.1784,
           17.818199999999973,
           17.818,
           0.15600000000001168,
           0.15999999999999903,
           0.13639999999999874,
           0.1296000000000097,
           0.9023999999999945,
           0.8917999999999997,
           0.048000000000003595,
           0.05119999999999969,
           3.672,
           3.6736,
           17.044799999999995,
           17.0352
          ]
         },
         "node": {
          "align": "right",
          "color": [
           "#37ae68",
           "#35ad68",
           "#37ae68",
           "#eac533",
           "#53b662",
           "#d55e00",
           "#33ad69",
           "#c6d84b",
           "#35ad68",
           "#009e73",
           "#1aa66e",
           "#1ea76d",
           "#26a96b",
           "#18a56e",
           "#1aa66e"
          ],
          "label": [
           "Start",
           "Create Offer 0",
           "Create Offer 0",
           "customerO_CreateOffer0",
           "",
           "unsucc",
           "Sent (mail and online)",
           "customerO_Cancelled",
           "",
           "succ",
           "Call incomplete files",
           "Call incomplete files",
           "customerCall incomplete files",
           "customerCall incomplete files",
           ""
          ],
          "line": {
           "color": "black",
           "width": 0.5
          },
          "pad": 5,
          "thickness": 30
         },
         "type": "sankey"
        }
       ],
       "layout": {
        "font": {
         "size": 30
        },
        "template": {
         "data": {
          "bar": [
           {
            "error_x": {
             "color": "#2a3f5f"
            },
            "error_y": {
             "color": "#2a3f5f"
            },
            "marker": {
             "line": {
              "color": "#E5ECF6",
              "width": 0.5
             },
             "pattern": {
              "fillmode": "overlay",
              "size": 10,
              "solidity": 0.2
             }
            },
            "type": "bar"
           }
          ],
          "barpolar": [
           {
            "marker": {
             "line": {
              "color": "#E5ECF6",
              "width": 0.5
             },
             "pattern": {
              "fillmode": "overlay",
              "size": 10,
              "solidity": 0.2
             }
            },
            "type": "barpolar"
           }
          ],
          "carpet": [
           {
            "aaxis": {
             "endlinecolor": "#2a3f5f",
             "gridcolor": "white",
             "linecolor": "white",
             "minorgridcolor": "white",
             "startlinecolor": "#2a3f5f"
            },
            "baxis": {
             "endlinecolor": "#2a3f5f",
             "gridcolor": "white",
             "linecolor": "white",
             "minorgridcolor": "white",
             "startlinecolor": "#2a3f5f"
            },
            "type": "carpet"
           }
          ],
          "choropleth": [
           {
            "colorbar": {
             "outlinewidth": 0,
             "ticks": ""
            },
            "type": "choropleth"
           }
          ],
          "contour": [
           {
            "colorbar": {
             "outlinewidth": 0,
             "ticks": ""
            },
            "colorscale": [
             [
              0,
              "#0d0887"
             ],
             [
              0.1111111111111111,
              "#46039f"
             ],
             [
              0.2222222222222222,
              "#7201a8"
             ],
             [
              0.3333333333333333,
              "#9c179e"
             ],
             [
              0.4444444444444444,
              "#bd3786"
             ],
             [
              0.5555555555555556,
              "#d8576b"
             ],
             [
              0.6666666666666666,
              "#ed7953"
             ],
             [
              0.7777777777777778,
              "#fb9f3a"
             ],
             [
              0.8888888888888888,
              "#fdca26"
             ],
             [
              1,
              "#f0f921"
             ]
            ],
            "type": "contour"
           }
          ],
          "contourcarpet": [
           {
            "colorbar": {
             "outlinewidth": 0,
             "ticks": ""
            },
            "type": "contourcarpet"
           }
          ],
          "heatmap": [
           {
            "colorbar": {
             "outlinewidth": 0,
             "ticks": ""
            },
            "colorscale": [
             [
              0,
              "#0d0887"
             ],
             [
              0.1111111111111111,
              "#46039f"
             ],
             [
              0.2222222222222222,
              "#7201a8"
             ],
             [
              0.3333333333333333,
              "#9c179e"
             ],
             [
              0.4444444444444444,
              "#bd3786"
             ],
             [
              0.5555555555555556,
              "#d8576b"
             ],
             [
              0.6666666666666666,
              "#ed7953"
             ],
             [
              0.7777777777777778,
              "#fb9f3a"
             ],
             [
              0.8888888888888888,
              "#fdca26"
             ],
             [
              1,
              "#f0f921"
             ]
            ],
            "type": "heatmap"
           }
          ],
          "heatmapgl": [
           {
            "colorbar": {
             "outlinewidth": 0,
             "ticks": ""
            },
            "colorscale": [
             [
              0,
              "#0d0887"
             ],
             [
              0.1111111111111111,
              "#46039f"
             ],
             [
              0.2222222222222222,
              "#7201a8"
             ],
             [
              0.3333333333333333,
              "#9c179e"
             ],
             [
              0.4444444444444444,
              "#bd3786"
             ],
             [
              0.5555555555555556,
              "#d8576b"
             ],
             [
              0.6666666666666666,
              "#ed7953"
             ],
             [
              0.7777777777777778,
              "#fb9f3a"
             ],
             [
              0.8888888888888888,
              "#fdca26"
             ],
             [
              1,
              "#f0f921"
             ]
            ],
            "type": "heatmapgl"
           }
          ],
          "histogram": [
           {
            "marker": {
             "pattern": {
              "fillmode": "overlay",
              "size": 10,
              "solidity": 0.2
             }
            },
            "type": "histogram"
           }
          ],
          "histogram2d": [
           {
            "colorbar": {
             "outlinewidth": 0,
             "ticks": ""
            },
            "colorscale": [
             [
              0,
              "#0d0887"
             ],
             [
              0.1111111111111111,
              "#46039f"
             ],
             [
              0.2222222222222222,
              "#7201a8"
             ],
             [
              0.3333333333333333,
              "#9c179e"
             ],
             [
              0.4444444444444444,
              "#bd3786"
             ],
             [
              0.5555555555555556,
              "#d8576b"
             ],
             [
              0.6666666666666666,
              "#ed7953"
             ],
             [
              0.7777777777777778,
              "#fb9f3a"
             ],
             [
              0.8888888888888888,
              "#fdca26"
             ],
             [
              1,
              "#f0f921"
             ]
            ],
            "type": "histogram2d"
           }
          ],
          "histogram2dcontour": [
           {
            "colorbar": {
             "outlinewidth": 0,
             "ticks": ""
            },
            "colorscale": [
             [
              0,
              "#0d0887"
             ],
             [
              0.1111111111111111,
              "#46039f"
             ],
             [
              0.2222222222222222,
              "#7201a8"
             ],
             [
              0.3333333333333333,
              "#9c179e"
             ],
             [
              0.4444444444444444,
              "#bd3786"
             ],
             [
              0.5555555555555556,
              "#d8576b"
             ],
             [
              0.6666666666666666,
              "#ed7953"
             ],
             [
              0.7777777777777778,
              "#fb9f3a"
             ],
             [
              0.8888888888888888,
              "#fdca26"
             ],
             [
              1,
              "#f0f921"
             ]
            ],
            "type": "histogram2dcontour"
           }
          ],
          "mesh3d": [
           {
            "colorbar": {
             "outlinewidth": 0,
             "ticks": ""
            },
            "type": "mesh3d"
           }
          ],
          "parcoords": [
           {
            "line": {
             "colorbar": {
              "outlinewidth": 0,
              "ticks": ""
             }
            },
            "type": "parcoords"
           }
          ],
          "pie": [
           {
            "automargin": true,
            "type": "pie"
           }
          ],
          "scatter": [
           {
            "fillpattern": {
             "fillmode": "overlay",
             "size": 10,
             "solidity": 0.2
            },
            "type": "scatter"
           }
          ],
          "scatter3d": [
           {
            "line": {
             "colorbar": {
              "outlinewidth": 0,
              "ticks": ""
             }
            },
            "marker": {
             "colorbar": {
              "outlinewidth": 0,
              "ticks": ""
             }
            },
            "type": "scatter3d"
           }
          ],
          "scattercarpet": [
           {
            "marker": {
             "colorbar": {
              "outlinewidth": 0,
              "ticks": ""
             }
            },
            "type": "scattercarpet"
           }
          ],
          "scattergeo": [
           {
            "marker": {
             "colorbar": {
              "outlinewidth": 0,
              "ticks": ""
             }
            },
            "type": "scattergeo"
           }
          ],
          "scattergl": [
           {
            "marker": {
             "colorbar": {
              "outlinewidth": 0,
              "ticks": ""
             }
            },
            "type": "scattergl"
           }
          ],
          "scattermapbox": [
           {
            "marker": {
             "colorbar": {
              "outlinewidth": 0,
              "ticks": ""
             }
            },
            "type": "scattermapbox"
           }
          ],
          "scatterpolar": [
           {
            "marker": {
             "colorbar": {
              "outlinewidth": 0,
              "ticks": ""
             }
            },
            "type": "scatterpolar"
           }
          ],
          "scatterpolargl": [
           {
            "marker": {
             "colorbar": {
              "outlinewidth": 0,
              "ticks": ""
             }
            },
            "type": "scatterpolargl"
           }
          ],
          "scatterternary": [
           {
            "marker": {
             "colorbar": {
              "outlinewidth": 0,
              "ticks": ""
             }
            },
            "type": "scatterternary"
           }
          ],
          "surface": [
           {
            "colorbar": {
             "outlinewidth": 0,
             "ticks": ""
            },
            "colorscale": [
             [
              0,
              "#0d0887"
             ],
             [
              0.1111111111111111,
              "#46039f"
             ],
             [
              0.2222222222222222,
              "#7201a8"
             ],
             [
              0.3333333333333333,
              "#9c179e"
             ],
             [
              0.4444444444444444,
              "#bd3786"
             ],
             [
              0.5555555555555556,
              "#d8576b"
             ],
             [
              0.6666666666666666,
              "#ed7953"
             ],
             [
              0.7777777777777778,
              "#fb9f3a"
             ],
             [
              0.8888888888888888,
              "#fdca26"
             ],
             [
              1,
              "#f0f921"
             ]
            ],
            "type": "surface"
           }
          ],
          "table": [
           {
            "cells": {
             "fill": {
              "color": "#EBF0F8"
             },
             "line": {
              "color": "white"
             }
            },
            "header": {
             "fill": {
              "color": "#C8D4E3"
             },
             "line": {
              "color": "white"
             }
            },
            "type": "table"
           }
          ]
         },
         "layout": {
          "annotationdefaults": {
           "arrowcolor": "#2a3f5f",
           "arrowhead": 0,
           "arrowwidth": 1
          },
          "autotypenumbers": "strict",
          "coloraxis": {
           "colorbar": {
            "outlinewidth": 0,
            "ticks": ""
           }
          },
          "colorscale": {
           "diverging": [
            [
             0,
             "#8e0152"
            ],
            [
             0.1,
             "#c51b7d"
            ],
            [
             0.2,
             "#de77ae"
            ],
            [
             0.3,
             "#f1b6da"
            ],
            [
             0.4,
             "#fde0ef"
            ],
            [
             0.5,
             "#f7f7f7"
            ],
            [
             0.6,
             "#e6f5d0"
            ],
            [
             0.7,
             "#b8e186"
            ],
            [
             0.8,
             "#7fbc41"
            ],
            [
             0.9,
             "#4d9221"
            ],
            [
             1,
             "#276419"
            ]
           ],
           "sequential": [
            [
             0,
             "#0d0887"
            ],
            [
             0.1111111111111111,
             "#46039f"
            ],
            [
             0.2222222222222222,
             "#7201a8"
            ],
            [
             0.3333333333333333,
             "#9c179e"
            ],
            [
             0.4444444444444444,
             "#bd3786"
            ],
            [
             0.5555555555555556,
             "#d8576b"
            ],
            [
             0.6666666666666666,
             "#ed7953"
            ],
            [
             0.7777777777777778,
             "#fb9f3a"
            ],
            [
             0.8888888888888888,
             "#fdca26"
            ],
            [
             1,
             "#f0f921"
            ]
           ],
           "sequentialminus": [
            [
             0,
             "#0d0887"
            ],
            [
             0.1111111111111111,
             "#46039f"
            ],
            [
             0.2222222222222222,
             "#7201a8"
            ],
            [
             0.3333333333333333,
             "#9c179e"
            ],
            [
             0.4444444444444444,
             "#bd3786"
            ],
            [
             0.5555555555555556,
             "#d8576b"
            ],
            [
             0.6666666666666666,
             "#ed7953"
            ],
            [
             0.7777777777777778,
             "#fb9f3a"
            ],
            [
             0.8888888888888888,
             "#fdca26"
            ],
            [
             1,
             "#f0f921"
            ]
           ]
          },
          "colorway": [
           "#636efa",
           "#EF553B",
           "#00cc96",
           "#ab63fa",
           "#FFA15A",
           "#19d3f3",
           "#FF6692",
           "#B6E880",
           "#FF97FF",
           "#FECB52"
          ],
          "font": {
           "color": "#2a3f5f"
          },
          "geo": {
           "bgcolor": "white",
           "lakecolor": "white",
           "landcolor": "#E5ECF6",
           "showlakes": true,
           "showland": true,
           "subunitcolor": "white"
          },
          "hoverlabel": {
           "align": "left"
          },
          "hovermode": "closest",
          "mapbox": {
           "style": "light"
          },
          "paper_bgcolor": "white",
          "plot_bgcolor": "#E5ECF6",
          "polar": {
           "angularaxis": {
            "gridcolor": "white",
            "linecolor": "white",
            "ticks": ""
           },
           "bgcolor": "#E5ECF6",
           "radialaxis": {
            "gridcolor": "white",
            "linecolor": "white",
            "ticks": ""
           }
          },
          "scene": {
           "xaxis": {
            "backgroundcolor": "#E5ECF6",
            "gridcolor": "white",
            "gridwidth": 2,
            "linecolor": "white",
            "showbackground": true,
            "ticks": "",
            "zerolinecolor": "white"
           },
           "yaxis": {
            "backgroundcolor": "#E5ECF6",
            "gridcolor": "white",
            "gridwidth": 2,
            "linecolor": "white",
            "showbackground": true,
            "ticks": "",
            "zerolinecolor": "white"
           },
           "zaxis": {
            "backgroundcolor": "#E5ECF6",
            "gridcolor": "white",
            "gridwidth": 2,
            "linecolor": "white",
            "showbackground": true,
            "ticks": "",
            "zerolinecolor": "white"
           }
          },
          "shapedefaults": {
           "line": {
            "color": "#2a3f5f"
           }
          },
          "ternary": {
           "aaxis": {
            "gridcolor": "white",
            "linecolor": "white",
            "ticks": ""
           },
           "baxis": {
            "gridcolor": "white",
            "linecolor": "white",
            "ticks": ""
           },
           "bgcolor": "#E5ECF6",
           "caxis": {
            "gridcolor": "white",
            "linecolor": "white",
            "ticks": ""
           }
          },
          "title": {
           "x": 0.05
          },
          "xaxis": {
           "automargin": true,
           "gridcolor": "white",
           "linecolor": "white",
           "ticks": "",
           "title": {
            "standoff": 15
           },
           "zerolinecolor": "white",
           "zerolinewidth": 2
          },
          "yaxis": {
           "automargin": true,
           "gridcolor": "white",
           "linecolor": "white",
           "ticks": "",
           "title": {
            "standoff": 15
           },
           "zerolinecolor": "white",
           "zerolinewidth": 2
          }
         }
        }
       }
      }
     },
     "metadata": {},
     "output_type": "display_data"
    }
   ],
   "source": [
    "import plotly.graph_objects as go\n",
    "\n",
    "def flatten(d, l):\n",
    "      \"\"\"\n",
    "      Helper function to get contracted nodes dict.\n",
    "      \"\"\"\n",
    "      for e in d:\n",
    "            l.append(e)\n",
    "            if 'contraction' in d[e]:\n",
    "                  flatten(d[e]['contraction'], l)\n",
    "      return l\n",
    "\n",
    "def reduced_sankey_diagram(g, results_file, strategy, lost_users_dict):\n",
    "      g = copy.deepcopy(g)\n",
    "      print(strategy.keys())\n",
    "      g = g.subgraph(strategy.keys()) # consider only nodes seen in strategy\n",
    "      g = reduce_graph(g, results_file)\n",
    "      color_map = compute_color_map(g, results_file)\n",
    "\n",
    "      d = nx.get_node_attributes(g, \"contraction\")\n",
    "      reduction_mapping = {}\n",
    "      for k in d:\n",
    "            reduction_mapping[k] = flatten(d[k], [])\n",
    "      print(\"reduction mapping\", reduction_mapping)\n",
    "                             \n",
    "      node_list = list(g.nodes())\n",
    "      print(\"Node_list\", node_list)\n",
    "      print(len(node_list))\n",
    "      node_dict = {node_list[i] : i for i in range(len(node_list))}\n",
    "\n",
    "      print(\"lost users dict\", lost_users_dict)\n",
    "\n",
    "      edge_list = []\n",
    "      value_list = []\n",
    "      for e in [e for e in lost_users_dict if lost_users_dict[e] != 0]:\n",
    "            if e[0] in node_list:\n",
    "                  s = e[0]\n",
    "            else:\n",
    "                  s = None\n",
    "                  for h in reduction_mapping:\n",
    "                        if e[0] in reduction_mapping[h]:\n",
    "                              s = h\n",
    "                  assert s\n",
    "            if e[1] in node_list:\n",
    "                  t = e[1]\n",
    "            else:\n",
    "                  t = None\n",
    "                  for h in reduction_mapping:\n",
    "                        if e[1] in reduction_mapping[h]:\n",
    "                              t = h\n",
    "                  assert t\n",
    "            edge_list.append((s,t))\n",
    "            value_list.append(lost_users_dict[e])\n",
    "\n",
    "      labels = []\n",
    "      \n",
    "      # build label list with right states\n",
    "      for s in node_list:\n",
    "            if s not in reduction_mapping or s in lost_users_dict:\n",
    "                  label = str(s).split(\": \")[1].replace(\"LONG\", \"\").replace(\"SHORT\", \"\").replace(\"W_\", \"\").replace(\"Callincompletefiles\", 'Call incomplete files')\n",
    "                  labels.append(label)\n",
    "            elif any([\"start\" in h for h in reduction_mapping[s]]):\n",
    "                  labels.append(\"Start\")\n",
    "            elif any([\"q30\" in h for h in reduction_mapping[s]]) or \"q30\" in s:\n",
    "                  labels.append(\"Sent (mail and online)\")\n",
    "            elif any([\"q23\" in h for h in reduction_mapping[s]]) or \"q23\" in s:\n",
    "                  labels.append(\"Create Offer 0\")\n",
    "            elif any([\"q13\" in h for h in reduction_mapping[s]]) or \"q13\" in s:\n",
    "                  labels.append(\"Create Offer 0\")\n",
    "            elif results_file[s] == 1:\n",
    "                  labels.append(\"succ\")\n",
    "            elif results_file[s] == 0:\n",
    "                  labels.append(\"unsucc\")\n",
    "            else:\n",
    "                  # s is in reduction_mapping and not in lost_users_dict\n",
    "                  labels.append(\"\")\n",
    "                  #labels.append(\"C\"+str(s).split(\": \")[0])\n",
    "\n",
    "      fig = go.Figure(data=[go.Sankey(\n",
    "      node = dict(\n",
    "          pad = 5,\n",
    "          thickness = 30,\n",
    "          line = dict(color = \"black\", width = 0.5),\n",
    "          label = labels,\n",
    "          color = [color_map[s] for s in node_list],\n",
    "          align = \"right\"\n",
    "      ),\n",
    "      link = dict(\n",
    "          source = [node_dict[e[0]] for e in edge_list],\n",
    "          target = [node_dict[e[1]] for e in edge_list],\n",
    "          value = value_list,\n",
    "          arrowlen=15,\n",
    "      ))])\n",
    "      fig.update_layout(\n",
    "        font=dict(size = 30)\n",
    "    )\n",
    "      fig.write_image(\"out/before_sankey.png\")\n",
    "      fig.show()\n",
    "\n",
    "\n",
    "reduced_sankey_diagram(g_before, get_probs_file(results_file_before, g_before, printer_before), transform_strategy(strategy_before, g_before, printer_before), lost_users_dict_before)"
   ]
  },
  {
   "cell_type": "code",
   "execution_count": 43,
   "metadata": {},
   "outputs": [
    {
     "name": "stdout",
     "output_type": "stream",
     "text": [
      "total 252.42059999999964\n",
      "(124.98580000000001, 'q64: O_Sentmailandonline') 0.49514896961658517\n",
      "(31.464500000000047, 'q109: customerW_CallincompletefilesSHORT') 0.1246510783985146\n",
      "(27.15919999999985, 'q13: O_CreateOffer0') 0.10759502195938005\n",
      "(22.321199999999756, 'q23: O_CreateOffer0') 0.08842859893368366\n",
      "(12.212500000000002, 'q42: O_CreateOffer1') 0.04838155047567441\n",
      "(12.014899999999995, 'q2: A_CreateApplication') 0.04759873005610482\n",
      "(7.652000000000003, 'q108: customerW_CallincompletefilesLONG') 0.030314483049323288\n",
      "(3.3796, 'q16: customerO_CreateOffer0') 0.013388764625391132\n",
      "(3.0944999999999983, 'q18: O_CreateOffer1') 0.012259300548370468\n",
      "(2.2316000000000056, 'q99: W_CallincompletefilesLONG') 0.008840799839632775\n",
      "(2.1107000000000014, 'q32: O_CreateOffer2') 0.00836183734608033\n",
      "(1.2427000000000041, 'q79: customerO_Returned') 0.004923132264165468\n",
      "(1.0996999999999535, 'q95: W_CallincompletefilesSHORT') 0.00435661748684519\n",
      "(0.6542000000000012, 'q94: W_CallincompletefilesLONG') 0.0025917060651943708\n",
      "(0.44560000000000766, 'q48: customerA_Validating') 0.0017653075858309834\n",
      "(0.24869999999998993, 'q66: W_CallincompletefilesSHORT') 0.000985260315520961\n",
      "(0.09329999999999139, 'q35: A_Validating') 0.0003696211798878203\n",
      "(0.009899999999999909, 'q65: O_Returned') 3.92202538144665e-05\n",
      "[62.500600000000006, 62.4852, 15.7488, 15.715700000000048, 13.57999999999985, 13.5792, 11.337499999999759, 10.983699999999999, 6.1128, 6.102500000000141, 6.099700000000002, 5.912399999999854, 3.8280000000000034, 3.824, 1.69, 1.6192000000000002, 1.5489, 1.5455999999999983, 1.1179999999999994, 1.1136000000000061, 1.0557000000000012, 1.055, 0.6270000000000042, 0.6157, 0.5620999999999381, 0.5376000000000154, 0.32760000000000145, 0.3265999999999998, 0.22480000000000644, 0.22080000000000122, 0.12480000000000357, 0.12389999999998635, 0.07829999999999138, 0.0704, 0.015000000000000013, 0.009899999999999909, 0.0, 0.0, 0.0, 0.0, 0.0, 0.0, 0.0, 0.0, 0.0, 0.0, 0.0, 0.0, 0.0, 0.0, 0.0, 0.0, 0, 0, 0.0, 0.0, 0.0, 0, 0.0, 0.0, 0.0, 0.0, 0.0, 0, 0.0, 0.0, 0.0, 0.0, 0.0, 0.0, 0, 0, 0.0, 0.0, 0.0, 0.0, 0.0, 0.0, 0.0, 0.0, 0.0, 0.0]\n"
     ]
    }
   ],
   "source": [
    "lost_users_dict_after = lost_users(g_after, get_probs_file(results_file_after, g_after, printer_after), transform_strategy(strategy_after, g_after, printer_after))"
   ]
  },
  {
   "cell_type": "code",
   "execution_count": 44,
   "metadata": {},
   "outputs": [
    {
     "name": "stdout",
     "output_type": "stream",
     "text": [
      "dict_keys(['q0: start', 'q1: companystart', 'q2: A_CreateApplication', 'q4: customerA_CreateApplication', 'q3: companyA_CreateApplication', 'q5: A_Concept', 'q6: A_Submitted', 'q7: companyA_Concept', 'q8: companyA_Submitted', 'q9: A_Accepted', 'q10: A_Concept', 'q11: companyA_Accepted', 'q12: companyA_Concept', 'q13: O_CreateOffer0', 'q14: A_Accepted', 'q15: companyO_CreateOffer0', 'q16: customerO_CreateOffer0', 'q17: companyA_Accepted', 'q18: O_CreateOffer1', 'q22: O_Cancelled', 'q21: A_CancelledCUSTOMER', 'q39: TIMEOUT', 'q23: O_CreateOffer0', 'q24: companyO_CreateOffer1', 'q25: customerO_CreateOffer1', 'q26: companyO_Sentmailandonline', 'q29: customerA_CancelledCUSTOMER', 'q30: companyO_Cancelled', 'q31: companyO_CreateOffer0', 'q32: O_CreateOffer2', 'q35: A_Validating', 'q64: O_Sentmailandonline', 'q42: O_CreateOffer1', 'q44: companyO_CreateOffer2', 'q87: customerO_CreateOffer2', 'q47: companyA_Validating', 'q48: customerA_Validating', 'q55: customerTIMEOUT', 'q57: companyO_CreateOffer1', 'q58: customerO_CreateOffer1', 'q61: O_CreateOffer3', 'q65: O_Returned', 'q66: W_CallincompletefilesSHORT', 'q99: W_CallincompletefilesLONG', 'q96: O_Accepted', 'q75: companyO_CreateOffer3', 'q77: customerO_Sentmailandonline', 'q79: customerO_Returned', 'q78: companyO_Returned', 'q80: companyW_CallincompletefilesSHORT', 'q109: customerW_CallincompletefilesSHORT', 'q90: O_Sentmailandonline', 'q93: A_Validating', 'q95: W_CallincompletefilesSHORT', 'q94: W_CallincompletefilesLONG', 'q102: O_Cancelled', 'q108: customerW_CallincompletefilesLONG', 'q107: companyW_CallincompletefilesLONG', 'q110: companyO_Accepted', 'q113: customerO_Cancelled', 'q117: A_Pending', 'q122: customerA_Pending'])\n",
      "size start 62\n",
      "size reduced 19\n",
      "reduction mapping {'q31: companyO_CreateOffer0': ['q42: O_CreateOffer1'], 'q47: companyA_Validating': ['q65: O_Returned', 'q79: customerO_Returned'], 'q4: customerA_CreateApplication': ['q6: A_Submitted', 'q8: companyA_Submitted', 'q10: A_Concept', 'q12: companyA_Concept', 'q14: A_Accepted', 'q17: companyA_Accepted', 'q23: O_CreateOffer0'], 'q0: start': ['q1: companystart', 'q2: A_CreateApplication'], 'q44: companyO_CreateOffer2': ['q61: O_CreateOffer3', 'q75: companyO_CreateOffer3', 'q90: O_Sentmailandonline', 'q26: companyO_Sentmailandonline', 'q35: A_Validating'], 'q15: companyO_CreateOffer0': ['q18: O_CreateOffer1'], 'q3: companyA_CreateApplication': ['q5: A_Concept', 'q7: companyA_Concept', 'q9: A_Accepted', 'q11: companyA_Accepted', 'q13: O_CreateOffer0'], 'q78: companyO_Returned': ['q107: companyW_CallincompletefilesLONG', 'q80: companyW_CallincompletefilesSHORT', 'q93: A_Validating', 'q48: customerA_Validating'], 'q24: companyO_CreateOffer1': ['q57: companyO_CreateOffer1', 'q32: O_CreateOffer2'], 'q77: customerO_Sentmailandonline': ['q39: TIMEOUT', 'q55: customerTIMEOUT', 'q21: A_CancelledCUSTOMER', 'q29: customerA_CancelledCUSTOMER'], 'q96: O_Accepted': ['q110: companyO_Accepted', 'q117: A_Pending', 'q122: customerA_Pending'], 'q87: customerO_CreateOffer2': ['q102: O_Cancelled', 'q113: customerO_Cancelled', 'q58: customerO_CreateOffer1', 'q25: customerO_CreateOffer1', 'q22: O_Cancelled', 'q30: companyO_Cancelled', 'q64: O_Sentmailandonline']}\n",
      "Node_list ['q108: customerW_CallincompletefilesLONG', 'q31: companyO_CreateOffer0', 'q47: companyA_Validating', 'q4: customerA_CreateApplication', 'q16: customerO_CreateOffer0', 'q0: start', 'q66: W_CallincompletefilesSHORT', 'q44: companyO_CreateOffer2', 'q15: companyO_CreateOffer0', 'q94: W_CallincompletefilesLONG', 'q3: companyA_CreateApplication', 'q78: companyO_Returned', 'q24: companyO_CreateOffer1', 'q77: customerO_Sentmailandonline', 'q99: W_CallincompletefilesLONG', 'q109: customerW_CallincompletefilesSHORT', 'q96: O_Accepted', 'q87: customerO_CreateOffer2', 'q95: W_CallincompletefilesSHORT']\n",
      "19\n",
      "dict {('q0: start', 'q1: companystart'): 0.0, ('q1: companystart', 'q2: A_CreateApplication'): 0.0, ('q2: A_CreateApplication', 'q4: customerA_CreateApplication'): 5.912399999999854, ('q2: A_CreateApplication', 'q3: companyA_CreateApplication'): 6.102500000000141, ('q4: customerA_CreateApplication', 'q6: A_Submitted'): 0.0, ('q3: companyA_CreateApplication', 'q5: A_Concept'): 0.0, ('q5: A_Concept', 'q7: companyA_Concept'): 0.0, ('q6: A_Submitted', 'q8: companyA_Submitted'): 0.0, ('q7: companyA_Concept', 'q9: A_Accepted'): 0.0, ('q8: companyA_Submitted', 'q10: A_Concept'): 0.0, ('q9: A_Accepted', 'q11: companyA_Accepted'): 0.0, ('q10: A_Concept', 'q12: companyA_Concept'): 0.0, ('q11: companyA_Accepted', 'q13: O_CreateOffer0'): 0.0, ('q12: companyA_Concept', 'q14: A_Accepted'): 0.0, ('q13: O_CreateOffer0', 'q15: companyO_CreateOffer0'): 13.57999999999985, ('q13: O_CreateOffer0', 'q16: customerO_CreateOffer0'): 13.5792, ('q14: A_Accepted', 'q17: companyA_Accepted'): 0.0, ('q15: companyO_CreateOffer0', 'q18: O_CreateOffer1'): 0.0, ('q16: customerO_CreateOffer0', 'q22: O_Cancelled'): 1.69, ('q16: customerO_CreateOffer0', 'q21: A_CancelledCUSTOMER'): 1.6192000000000002, ('q16: customerO_CreateOffer0', 'q39: TIMEOUT'): 0.0704, ('q17: companyA_Accepted', 'q23: O_CreateOffer0'): 0.0, ('q18: O_CreateOffer1', 'q24: companyO_CreateOffer1'): 1.5455999999999983, ('q18: O_CreateOffer1', 'q25: customerO_CreateOffer1'): 1.5489, ('q22: O_Cancelled', 'q30: companyO_Cancelled'): 0.0, ('q21: A_CancelledCUSTOMER', 'q29: customerA_CancelledCUSTOMER'): 0, ('q39: TIMEOUT', 'q55: customerTIMEOUT'): 0, ('q23: O_CreateOffer0', 'q31: companyO_CreateOffer0'): 11.337499999999759, ('q23: O_CreateOffer0', 'q16: customerO_CreateOffer0'): 10.983699999999999, ('q24: companyO_CreateOffer1', 'q32: O_CreateOffer2'): 0.0, ('q25: customerO_CreateOffer1', 'q22: O_Cancelled'): 0.0, ('q26: companyO_Sentmailandonline', 'q35: A_Validating'): 0.0, ('q29: customerA_CancelledCUSTOMER', 'q40: negative'): 0, ('q30: companyO_Cancelled', 'q64: O_Sentmailandonline'): 0.0, ('q31: companyO_CreateOffer0', 'q42: O_CreateOffer1'): 0.0, ('q32: O_CreateOffer2', 'q44: companyO_CreateOffer2'): 1.0557000000000012, ('q32: O_CreateOffer2', 'q87: customerO_CreateOffer2'): 1.055, ('q35: A_Validating', 'q47: companyA_Validating'): 0.07829999999999138, ('q35: A_Validating', 'q48: customerA_Validating'): 0.015000000000000013, ('q64: O_Sentmailandonline', 'q77: customerO_Sentmailandonline'): 62.4852, ('q64: O_Sentmailandonline', 'q26: companyO_Sentmailandonline'): 62.500600000000006, ('q42: O_CreateOffer1', 'q57: companyO_CreateOffer1'): 6.099700000000002, ('q42: O_CreateOffer1', 'q58: customerO_CreateOffer1'): 6.1128, ('q44: companyO_CreateOffer2', 'q61: O_CreateOffer3'): 0.0, ('q87: customerO_CreateOffer2', 'q102: O_Cancelled'): 0.0, ('q47: companyA_Validating', 'q65: O_Returned'): 0.0, ('q48: customerA_Validating', 'q66: W_CallincompletefilesSHORT'): 0.22480000000000644, ('q48: customerA_Validating', 'q99: W_CallincompletefilesLONG'): 0.22080000000000122, ('q55: customerTIMEOUT', 'q40: negative'): 0, ('q57: companyO_CreateOffer1', 'q32: O_CreateOffer2'): 0.0, ('q58: customerO_CreateOffer1', 'q22: O_Cancelled'): 0.0, ('q61: O_CreateOffer3', 'q75: companyO_CreateOffer3'): 0.0, ('q65: O_Returned', 'q79: customerO_Returned'): 0.0, ('q65: O_Returned', 'q78: companyO_Returned'): 0.009899999999999909, ('q66: W_CallincompletefilesSHORT', 'q80: companyW_CallincompletefilesSHORT'): 0.12480000000000357, ('q66: W_CallincompletefilesSHORT', 'q109: customerW_CallincompletefilesSHORT'): 0.12389999999998635, ('q99: W_CallincompletefilesLONG', 'q107: companyW_CallincompletefilesLONG'): 1.1136000000000061, ('q99: W_CallincompletefilesLONG', 'q108: customerW_CallincompletefilesLONG'): 1.1179999999999994, ('q96: O_Accepted', 'q110: companyO_Accepted'): 0.0, ('q75: companyO_CreateOffer3', 'q90: O_Sentmailandonline'): 0.0, ('q77: customerO_Sentmailandonline', 'q39: TIMEOUT'): 0, ('q77: customerO_Sentmailandonline', 'q21: A_CancelledCUSTOMER'): 0, ('q79: customerO_Returned', 'q95: W_CallincompletefilesSHORT'): 0.6270000000000042, ('q79: customerO_Returned', 'q94: W_CallincompletefilesLONG'): 0.6157, ('q78: companyO_Returned', 'q93: A_Validating'): 0.0, ('q80: companyW_CallincompletefilesSHORT', 'q93: A_Validating'): 0.0, ('q109: customerW_CallincompletefilesSHORT', 'q96: O_Accepted'): 15.715700000000048, ('q109: customerW_CallincompletefilesSHORT', 'q21: A_CancelledCUSTOMER'): 15.7488, ('q90: O_Sentmailandonline', 'q26: companyO_Sentmailandonline'): 0.0, ('q93: A_Validating', 'q48: customerA_Validating'): 0.0, ('q95: W_CallincompletefilesSHORT', 'q80: companyW_CallincompletefilesSHORT'): 0.5376000000000154, ('q95: W_CallincompletefilesSHORT', 'q109: customerW_CallincompletefilesSHORT'): 0.5620999999999381, ('q94: W_CallincompletefilesLONG', 'q108: customerW_CallincompletefilesLONG'): 0.32760000000000145, ('q94: W_CallincompletefilesLONG', 'q107: companyW_CallincompletefilesLONG'): 0.3265999999999998, ('q102: O_Cancelled', 'q113: customerO_Cancelled'): 0.0, ('q108: customerW_CallincompletefilesLONG', 'q96: O_Accepted'): 3.8280000000000034, ('q108: customerW_CallincompletefilesLONG', 'q21: A_CancelledCUSTOMER'): 3.824, ('q107: companyW_CallincompletefilesLONG', 'q93: A_Validating'): 0.0, ('q110: companyO_Accepted', 'q117: A_Pending'): 0.0, ('q113: customerO_Cancelled', 'q22: O_Cancelled'): 0.0, ('q117: A_Pending', 'q122: customerA_Pending'): 0.0, ('q122: customerA_Pending', 'q128: positive'): 0.0}\n"
     ]
    },
    {
     "data": {
      "application/vnd.plotly.v1+json": {
       "config": {
        "plotlyServerURL": "https://plot.ly"
       },
       "data": [
        {
         "link": {
          "arrowlen": 15,
          "source": [
           5,
           5,
           10,
           10,
           4,
           4,
           4,
           8,
           8,
           3,
           3,
           12,
           12,
           7,
           7,
           17,
           17,
           1,
           1,
           11,
           11,
           2,
           6,
           6,
           14,
           14,
           2,
           2,
           15,
           15,
           18,
           18,
           9,
           9,
           0,
           0
          ],
          "target": [
           3,
           10,
           8,
           4,
           17,
           13,
           13,
           12,
           17,
           1,
           4,
           7,
           17,
           2,
           11,
           13,
           7,
           12,
           17,
           6,
           14,
           11,
           11,
           15,
           11,
           0,
           18,
           9,
           16,
           13,
           11,
           15,
           0,
           11,
           16,
           13
          ],
          "value": [
           5.912399999999854,
           6.102500000000141,
           13.57999999999985,
           13.5792,
           1.69,
           1.6192000000000002,
           0.0704,
           1.5455999999999983,
           1.5489,
           11.337499999999759,
           10.983699999999999,
           1.0557000000000012,
           1.055,
           0.07829999999999138,
           0.015000000000000013,
           62.4852,
           62.500600000000006,
           6.099700000000002,
           6.1128,
           0.22480000000000644,
           0.22080000000000122,
           0.009899999999999909,
           0.12480000000000357,
           0.12389999999998635,
           1.1136000000000061,
           1.1179999999999994,
           0.6270000000000042,
           0.6157,
           15.715700000000048,
           15.7488,
           0.5376000000000154,
           0.5620999999999381,
           0.32760000000000145,
           0.3265999999999998,
           3.8280000000000034,
           3.824
          ]
         },
         "node": {
          "align": "right",
          "color": [
           "#15a46f",
           "#28aa6b",
           "#08a071",
           "#28aa6b",
           "#d97109",
           "#28aa6b",
           "#08a071",
           "#08a071",
           "#24a86c",
           "#0fa270",
           "#26a96b",
           "#08a071",
           "#1ea76d",
           "#d55e00",
           "#0ba171",
           "#08a071",
           "#009e73",
           "#ebcb36",
           "#08a071"
          ],
          "label": [
           "customerCall incomplete files",
           "Create Offer 1",
           "",
           "Create Offer 0",
           "customerO_CreateOffer0",
           "Start",
           "Call incomplete files",
           "",
           "",
           "Call incomplete files",
           "Create Offer 0",
           "",
           "Create Offer 2",
           "unsucc",
           "Call incomplete files",
           "customerCall incomplete files",
           "succ",
           "Sent (mail and online)",
           "Call incomplete files"
          ],
          "line": {
           "color": "black",
           "width": 0.5
          },
          "pad": 10,
          "thickness": 30
         },
         "type": "sankey"
        }
       ],
       "layout": {
        "font": {
         "size": 30
        },
        "template": {
         "data": {
          "bar": [
           {
            "error_x": {
             "color": "#2a3f5f"
            },
            "error_y": {
             "color": "#2a3f5f"
            },
            "marker": {
             "line": {
              "color": "#E5ECF6",
              "width": 0.5
             },
             "pattern": {
              "fillmode": "overlay",
              "size": 10,
              "solidity": 0.2
             }
            },
            "type": "bar"
           }
          ],
          "barpolar": [
           {
            "marker": {
             "line": {
              "color": "#E5ECF6",
              "width": 0.5
             },
             "pattern": {
              "fillmode": "overlay",
              "size": 10,
              "solidity": 0.2
             }
            },
            "type": "barpolar"
           }
          ],
          "carpet": [
           {
            "aaxis": {
             "endlinecolor": "#2a3f5f",
             "gridcolor": "white",
             "linecolor": "white",
             "minorgridcolor": "white",
             "startlinecolor": "#2a3f5f"
            },
            "baxis": {
             "endlinecolor": "#2a3f5f",
             "gridcolor": "white",
             "linecolor": "white",
             "minorgridcolor": "white",
             "startlinecolor": "#2a3f5f"
            },
            "type": "carpet"
           }
          ],
          "choropleth": [
           {
            "colorbar": {
             "outlinewidth": 0,
             "ticks": ""
            },
            "type": "choropleth"
           }
          ],
          "contour": [
           {
            "colorbar": {
             "outlinewidth": 0,
             "ticks": ""
            },
            "colorscale": [
             [
              0,
              "#0d0887"
             ],
             [
              0.1111111111111111,
              "#46039f"
             ],
             [
              0.2222222222222222,
              "#7201a8"
             ],
             [
              0.3333333333333333,
              "#9c179e"
             ],
             [
              0.4444444444444444,
              "#bd3786"
             ],
             [
              0.5555555555555556,
              "#d8576b"
             ],
             [
              0.6666666666666666,
              "#ed7953"
             ],
             [
              0.7777777777777778,
              "#fb9f3a"
             ],
             [
              0.8888888888888888,
              "#fdca26"
             ],
             [
              1,
              "#f0f921"
             ]
            ],
            "type": "contour"
           }
          ],
          "contourcarpet": [
           {
            "colorbar": {
             "outlinewidth": 0,
             "ticks": ""
            },
            "type": "contourcarpet"
           }
          ],
          "heatmap": [
           {
            "colorbar": {
             "outlinewidth": 0,
             "ticks": ""
            },
            "colorscale": [
             [
              0,
              "#0d0887"
             ],
             [
              0.1111111111111111,
              "#46039f"
             ],
             [
              0.2222222222222222,
              "#7201a8"
             ],
             [
              0.3333333333333333,
              "#9c179e"
             ],
             [
              0.4444444444444444,
              "#bd3786"
             ],
             [
              0.5555555555555556,
              "#d8576b"
             ],
             [
              0.6666666666666666,
              "#ed7953"
             ],
             [
              0.7777777777777778,
              "#fb9f3a"
             ],
             [
              0.8888888888888888,
              "#fdca26"
             ],
             [
              1,
              "#f0f921"
             ]
            ],
            "type": "heatmap"
           }
          ],
          "heatmapgl": [
           {
            "colorbar": {
             "outlinewidth": 0,
             "ticks": ""
            },
            "colorscale": [
             [
              0,
              "#0d0887"
             ],
             [
              0.1111111111111111,
              "#46039f"
             ],
             [
              0.2222222222222222,
              "#7201a8"
             ],
             [
              0.3333333333333333,
              "#9c179e"
             ],
             [
              0.4444444444444444,
              "#bd3786"
             ],
             [
              0.5555555555555556,
              "#d8576b"
             ],
             [
              0.6666666666666666,
              "#ed7953"
             ],
             [
              0.7777777777777778,
              "#fb9f3a"
             ],
             [
              0.8888888888888888,
              "#fdca26"
             ],
             [
              1,
              "#f0f921"
             ]
            ],
            "type": "heatmapgl"
           }
          ],
          "histogram": [
           {
            "marker": {
             "pattern": {
              "fillmode": "overlay",
              "size": 10,
              "solidity": 0.2
             }
            },
            "type": "histogram"
           }
          ],
          "histogram2d": [
           {
            "colorbar": {
             "outlinewidth": 0,
             "ticks": ""
            },
            "colorscale": [
             [
              0,
              "#0d0887"
             ],
             [
              0.1111111111111111,
              "#46039f"
             ],
             [
              0.2222222222222222,
              "#7201a8"
             ],
             [
              0.3333333333333333,
              "#9c179e"
             ],
             [
              0.4444444444444444,
              "#bd3786"
             ],
             [
              0.5555555555555556,
              "#d8576b"
             ],
             [
              0.6666666666666666,
              "#ed7953"
             ],
             [
              0.7777777777777778,
              "#fb9f3a"
             ],
             [
              0.8888888888888888,
              "#fdca26"
             ],
             [
              1,
              "#f0f921"
             ]
            ],
            "type": "histogram2d"
           }
          ],
          "histogram2dcontour": [
           {
            "colorbar": {
             "outlinewidth": 0,
             "ticks": ""
            },
            "colorscale": [
             [
              0,
              "#0d0887"
             ],
             [
              0.1111111111111111,
              "#46039f"
             ],
             [
              0.2222222222222222,
              "#7201a8"
             ],
             [
              0.3333333333333333,
              "#9c179e"
             ],
             [
              0.4444444444444444,
              "#bd3786"
             ],
             [
              0.5555555555555556,
              "#d8576b"
             ],
             [
              0.6666666666666666,
              "#ed7953"
             ],
             [
              0.7777777777777778,
              "#fb9f3a"
             ],
             [
              0.8888888888888888,
              "#fdca26"
             ],
             [
              1,
              "#f0f921"
             ]
            ],
            "type": "histogram2dcontour"
           }
          ],
          "mesh3d": [
           {
            "colorbar": {
             "outlinewidth": 0,
             "ticks": ""
            },
            "type": "mesh3d"
           }
          ],
          "parcoords": [
           {
            "line": {
             "colorbar": {
              "outlinewidth": 0,
              "ticks": ""
             }
            },
            "type": "parcoords"
           }
          ],
          "pie": [
           {
            "automargin": true,
            "type": "pie"
           }
          ],
          "scatter": [
           {
            "fillpattern": {
             "fillmode": "overlay",
             "size": 10,
             "solidity": 0.2
            },
            "type": "scatter"
           }
          ],
          "scatter3d": [
           {
            "line": {
             "colorbar": {
              "outlinewidth": 0,
              "ticks": ""
             }
            },
            "marker": {
             "colorbar": {
              "outlinewidth": 0,
              "ticks": ""
             }
            },
            "type": "scatter3d"
           }
          ],
          "scattercarpet": [
           {
            "marker": {
             "colorbar": {
              "outlinewidth": 0,
              "ticks": ""
             }
            },
            "type": "scattercarpet"
           }
          ],
          "scattergeo": [
           {
            "marker": {
             "colorbar": {
              "outlinewidth": 0,
              "ticks": ""
             }
            },
            "type": "scattergeo"
           }
          ],
          "scattergl": [
           {
            "marker": {
             "colorbar": {
              "outlinewidth": 0,
              "ticks": ""
             }
            },
            "type": "scattergl"
           }
          ],
          "scattermapbox": [
           {
            "marker": {
             "colorbar": {
              "outlinewidth": 0,
              "ticks": ""
             }
            },
            "type": "scattermapbox"
           }
          ],
          "scatterpolar": [
           {
            "marker": {
             "colorbar": {
              "outlinewidth": 0,
              "ticks": ""
             }
            },
            "type": "scatterpolar"
           }
          ],
          "scatterpolargl": [
           {
            "marker": {
             "colorbar": {
              "outlinewidth": 0,
              "ticks": ""
             }
            },
            "type": "scatterpolargl"
           }
          ],
          "scatterternary": [
           {
            "marker": {
             "colorbar": {
              "outlinewidth": 0,
              "ticks": ""
             }
            },
            "type": "scatterternary"
           }
          ],
          "surface": [
           {
            "colorbar": {
             "outlinewidth": 0,
             "ticks": ""
            },
            "colorscale": [
             [
              0,
              "#0d0887"
             ],
             [
              0.1111111111111111,
              "#46039f"
             ],
             [
              0.2222222222222222,
              "#7201a8"
             ],
             [
              0.3333333333333333,
              "#9c179e"
             ],
             [
              0.4444444444444444,
              "#bd3786"
             ],
             [
              0.5555555555555556,
              "#d8576b"
             ],
             [
              0.6666666666666666,
              "#ed7953"
             ],
             [
              0.7777777777777778,
              "#fb9f3a"
             ],
             [
              0.8888888888888888,
              "#fdca26"
             ],
             [
              1,
              "#f0f921"
             ]
            ],
            "type": "surface"
           }
          ],
          "table": [
           {
            "cells": {
             "fill": {
              "color": "#EBF0F8"
             },
             "line": {
              "color": "white"
             }
            },
            "header": {
             "fill": {
              "color": "#C8D4E3"
             },
             "line": {
              "color": "white"
             }
            },
            "type": "table"
           }
          ]
         },
         "layout": {
          "annotationdefaults": {
           "arrowcolor": "#2a3f5f",
           "arrowhead": 0,
           "arrowwidth": 1
          },
          "autotypenumbers": "strict",
          "coloraxis": {
           "colorbar": {
            "outlinewidth": 0,
            "ticks": ""
           }
          },
          "colorscale": {
           "diverging": [
            [
             0,
             "#8e0152"
            ],
            [
             0.1,
             "#c51b7d"
            ],
            [
             0.2,
             "#de77ae"
            ],
            [
             0.3,
             "#f1b6da"
            ],
            [
             0.4,
             "#fde0ef"
            ],
            [
             0.5,
             "#f7f7f7"
            ],
            [
             0.6,
             "#e6f5d0"
            ],
            [
             0.7,
             "#b8e186"
            ],
            [
             0.8,
             "#7fbc41"
            ],
            [
             0.9,
             "#4d9221"
            ],
            [
             1,
             "#276419"
            ]
           ],
           "sequential": [
            [
             0,
             "#0d0887"
            ],
            [
             0.1111111111111111,
             "#46039f"
            ],
            [
             0.2222222222222222,
             "#7201a8"
            ],
            [
             0.3333333333333333,
             "#9c179e"
            ],
            [
             0.4444444444444444,
             "#bd3786"
            ],
            [
             0.5555555555555556,
             "#d8576b"
            ],
            [
             0.6666666666666666,
             "#ed7953"
            ],
            [
             0.7777777777777778,
             "#fb9f3a"
            ],
            [
             0.8888888888888888,
             "#fdca26"
            ],
            [
             1,
             "#f0f921"
            ]
           ],
           "sequentialminus": [
            [
             0,
             "#0d0887"
            ],
            [
             0.1111111111111111,
             "#46039f"
            ],
            [
             0.2222222222222222,
             "#7201a8"
            ],
            [
             0.3333333333333333,
             "#9c179e"
            ],
            [
             0.4444444444444444,
             "#bd3786"
            ],
            [
             0.5555555555555556,
             "#d8576b"
            ],
            [
             0.6666666666666666,
             "#ed7953"
            ],
            [
             0.7777777777777778,
             "#fb9f3a"
            ],
            [
             0.8888888888888888,
             "#fdca26"
            ],
            [
             1,
             "#f0f921"
            ]
           ]
          },
          "colorway": [
           "#636efa",
           "#EF553B",
           "#00cc96",
           "#ab63fa",
           "#FFA15A",
           "#19d3f3",
           "#FF6692",
           "#B6E880",
           "#FF97FF",
           "#FECB52"
          ],
          "font": {
           "color": "#2a3f5f"
          },
          "geo": {
           "bgcolor": "white",
           "lakecolor": "white",
           "landcolor": "#E5ECF6",
           "showlakes": true,
           "showland": true,
           "subunitcolor": "white"
          },
          "hoverlabel": {
           "align": "left"
          },
          "hovermode": "closest",
          "mapbox": {
           "style": "light"
          },
          "paper_bgcolor": "white",
          "plot_bgcolor": "#E5ECF6",
          "polar": {
           "angularaxis": {
            "gridcolor": "white",
            "linecolor": "white",
            "ticks": ""
           },
           "bgcolor": "#E5ECF6",
           "radialaxis": {
            "gridcolor": "white",
            "linecolor": "white",
            "ticks": ""
           }
          },
          "scene": {
           "xaxis": {
            "backgroundcolor": "#E5ECF6",
            "gridcolor": "white",
            "gridwidth": 2,
            "linecolor": "white",
            "showbackground": true,
            "ticks": "",
            "zerolinecolor": "white"
           },
           "yaxis": {
            "backgroundcolor": "#E5ECF6",
            "gridcolor": "white",
            "gridwidth": 2,
            "linecolor": "white",
            "showbackground": true,
            "ticks": "",
            "zerolinecolor": "white"
           },
           "zaxis": {
            "backgroundcolor": "#E5ECF6",
            "gridcolor": "white",
            "gridwidth": 2,
            "linecolor": "white",
            "showbackground": true,
            "ticks": "",
            "zerolinecolor": "white"
           }
          },
          "shapedefaults": {
           "line": {
            "color": "#2a3f5f"
           }
          },
          "ternary": {
           "aaxis": {
            "gridcolor": "white",
            "linecolor": "white",
            "ticks": ""
           },
           "baxis": {
            "gridcolor": "white",
            "linecolor": "white",
            "ticks": ""
           },
           "bgcolor": "#E5ECF6",
           "caxis": {
            "gridcolor": "white",
            "linecolor": "white",
            "ticks": ""
           }
          },
          "title": {
           "x": 0.05
          },
          "xaxis": {
           "automargin": true,
           "gridcolor": "white",
           "linecolor": "white",
           "ticks": "",
           "title": {
            "standoff": 15
           },
           "zerolinecolor": "white",
           "zerolinewidth": 2
          },
          "yaxis": {
           "automargin": true,
           "gridcolor": "white",
           "linecolor": "white",
           "ticks": "",
           "title": {
            "standoff": 15
           },
           "zerolinecolor": "white",
           "zerolinewidth": 2
          }
         }
        }
       }
      }
     },
     "metadata": {},
     "output_type": "display_data"
    }
   ],
   "source": [
    "def reduced_sankey_diagram(g, results_file, strategy, lost_users_dict):\n",
    "      g = copy.deepcopy(g)\n",
    "      print(strategy.keys())\n",
    "      g = g.subgraph(strategy.keys()) # consider only nodes seen in strategy\n",
    "      g = reduce_graph(g, results_file)\n",
    "      color_map = compute_color_map(g, results_file)\n",
    "\n",
    "      d = nx.get_node_attributes(g, \"contraction\")\n",
    "      reduction_mapping = {}\n",
    "      for k in d:\n",
    "            reduction_mapping[k] = flatten(d[k], [])\n",
    "      print(\"reduction mapping\", reduction_mapping)\n",
    "                             \n",
    "      node_list = list(g.nodes())\n",
    "      print(\"Node_list\", node_list)\n",
    "      print(len(node_list))\n",
    "      node_dict = {node_list[i] : i for i in range(len(node_list))}\n",
    "\n",
    "      print(\"dict\", lost_users_dict)\n",
    "\n",
    "      edge_list = []\n",
    "      value_list = []\n",
    "      for e in [e for e in lost_users_dict if lost_users_dict[e] != 0]:\n",
    "            if e[0] in node_list:\n",
    "                  s = e[0]\n",
    "            else:\n",
    "                  s = None\n",
    "                  for h in reduction_mapping:\n",
    "                        if e[0] in reduction_mapping[h]:\n",
    "                              s = h\n",
    "                  assert s\n",
    "            if e[1] in node_list:\n",
    "                  t = e[1]\n",
    "            else:\n",
    "                  t = None\n",
    "                  for h in reduction_mapping:\n",
    "                        if e[1] in reduction_mapping[h]:\n",
    "                              t = h\n",
    "                  assert t\n",
    "            edge_list.append((s,t))\n",
    "            value_list.append(lost_users_dict[e])\n",
    "\n",
    "      labels = []\n",
    "\n",
    "      # build label list with right states\n",
    "      for s in node_list:\n",
    "            if s not in reduction_mapping or s in lost_users_dict:\n",
    "                  label = str(s).split(\": \")[1].replace(\"LONG\", \"\").replace(\"SHORT\", \"\").replace(\"W_\", \"\").replace(\"Callincompletefiles\", 'Call incomplete files')\n",
    "                  labels.append(label)\n",
    "            elif any([\"start\" in h for h in reduction_mapping[s]]):\n",
    "                  labels.append(\"Start\")\n",
    "            elif any([\"q64\" in h for h in reduction_mapping[s]]) or \"q64\" in s:\n",
    "                  labels.append(\"Sent (mail and online)\")\n",
    "            elif any([\"q23\" in h for h in reduction_mapping[s]]) or \"q23\" in s:\n",
    "                  labels.append(\"Create Offer 0\")\n",
    "            elif any([\"q13\" in h for h in reduction_mapping[s]]) or \"q13\" in s:\n",
    "                  labels.append(\"Create Offer 0\")\n",
    "            elif any([\"q42\" in h for h in reduction_mapping[s]]) or \"q42\" in s:\n",
    "                  labels.append(\"Create Offer 1\")\n",
    "            elif any([\"q32\" in h for h in reduction_mapping[s]]) or \"q42\" in s:\n",
    "                  labels.append(\"Create Offer 2\")\n",
    "            elif results_file[s] == 1:\n",
    "                  labels.append(\"succ\")\n",
    "            elif results_file[s] == 0:\n",
    "                  labels.append(\"unsucc\")\n",
    "            else:\n",
    "                  # s is in reduction_mapping and not in lost_users_dict\n",
    "                  labels.append(\"\")\n",
    "                  #labels.append(\"C\"+str(s).split(\": \")[0])\n",
    "\n",
    "      fig = go.Figure(data=[go.Sankey(\n",
    "      node = dict(\n",
    "          pad = 10,\n",
    "          thickness = 30,\n",
    "          line = dict(color = \"black\", width = 0.5),\n",
    "          label = labels,\n",
    "          color = [color_map[s] for s in node_list],\n",
    "          align = \"right\"\n",
    "      ),\n",
    "      link = dict(\n",
    "          source = [node_dict[e[0]] for e in edge_list],\n",
    "          target = [node_dict[e[1]] for e in edge_list],\n",
    "          value = value_list,\n",
    "          arrowlen=15,\n",
    "      ))])\n",
    "      fig.update_layout(\n",
    "        font=dict(size = 30)\n",
    "    )\n",
    "      fig.write_image(\"out/after_sankey.png\")\n",
    "      fig.show()\n",
    "\n",
    "reduced_sankey_diagram(g_after, get_probs_file(results_file_after, g_after, printer_after),  transform_strategy(strategy_after, g_after, printer_after), lost_users_dict_after)"
   ]
  },
  {
   "cell_type": "code",
   "execution_count": 45,
   "metadata": {},
   "outputs": [
    {
     "name": "stdout",
     "output_type": "stream",
     "text": [
      "neg 2907\n",
      "pos 2608\n"
     ]
    }
   ],
   "source": [
    "def total_lost_users(g):\n",
    "    for s in g:\n",
    "        if \"negative\" in s:\n",
    "            print(\"neg\", sum([len(set(g.edges[e]['trace_indices'])) for e in g.in_edges(s)]))\n",
    "        if \"positive\" in s:\n",
    "            print(\"pos\", sum([len(set(g.edges[e]['trace_indices'])) for e in g.in_edges(s)]))\n",
    "\n",
    "total_lost_users(g_before)"
   ]
  }
 ],
 "metadata": {
  "kernelspec": {
   "display_name": "Python 3",
   "language": "python",
   "name": "python3"
  },
  "language_info": {
   "codemirror_mode": {
    "name": "ipython",
    "version": 3
   },
   "file_extension": ".py",
   "mimetype": "text/x-python",
   "name": "python",
   "nbconvert_exporter": "python",
   "pygments_lexer": "ipython3",
   "version": "3.10.12"
  }
 },
 "nbformat": 4,
 "nbformat_minor": 2
}
